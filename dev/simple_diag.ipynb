{
 "cells": [
  {
   "cell_type": "code",
   "execution_count": 1,
   "metadata": {},
   "outputs": [],
   "source": [
    "import numpy as np\n",
    "import matplotlib.pyplot as plt"
   ]
  },
  {
   "cell_type": "code",
   "execution_count": 2,
   "metadata": {},
   "outputs": [],
   "source": [
    "# Generate a random matrix A\n",
    "n = 1000\n",
    "A = np.random.normal(size=(n,n))\n",
    "A = A.T @ A"
   ]
  },
  {
   "cell_type": "code",
   "execution_count": 3,
   "metadata": {},
   "outputs": [],
   "source": [
    "sample_size = 100000\n",
    "\n",
    "diag_estimate = np.zeros(n)\n",
    "tk = np.zeros(n)\n",
    "qk = np.zeros(n)\n",
    "\n",
    "for j in range(sample_size):\n",
    "    \n",
    "    # Draw random vector\n",
    "    vk = np.random.choice([-1, 1], size=n)\n",
    "\n",
    "    # Update tk\n",
    "    tk = tk + ((A @ vk) * vk)\n",
    "\n",
    "    # Update qk\n",
    "    qk = qk + (vk*vk)\n",
    "\n",
    "    # Update diag_estimate\n",
    "    diag_estimate = tk / qk"
   ]
  },
  {
   "cell_type": "code",
   "execution_count": 4,
   "metadata": {},
   "outputs": [
    {
     "data": {
      "text/plain": [
       "9.864831662658363"
      ]
     },
     "execution_count": 4,
     "metadata": {},
     "output_type": "execute_result"
    }
   ],
   "source": [
    "(np.linalg.norm( np.diag(A) - diag_estimate , ord=2)**2)/n"
   ]
  },
  {
   "cell_type": "code",
   "execution_count": null,
   "metadata": {},
   "outputs": [],
   "source": []
  }
 ],
 "metadata": {
  "kernelspec": {
   "display_name": "speckle38",
   "language": "python",
   "name": "python3"
  },
  "language_info": {
   "codemirror_mode": {
    "name": "ipython",
    "version": 3
   },
   "file_extension": ".py",
   "mimetype": "text/x-python",
   "name": "python",
   "nbconvert_exporter": "python",
   "pygments_lexer": "ipython3",
   "version": "3.8.12"
  },
  "orig_nbformat": 4
 },
 "nbformat": 4,
 "nbformat_minor": 2
}
