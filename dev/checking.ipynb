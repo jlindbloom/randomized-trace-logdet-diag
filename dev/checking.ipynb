{
 "cells": [
  {
   "cell_type": "code",
   "execution_count": 1,
   "metadata": {},
   "outputs": [
    {
     "name": "stderr",
     "output_type": "stream",
     "text": [
      "<frozen importlib._bootstrap>:219: RuntimeWarning: scipy._lib.messagestream.MessageStream size changed, may indicate binary incompatibility. Expected 56 from C header, got 64 from PyObject\n"
     ]
    }
   ],
   "source": [
    "import numpy as np\n",
    "from scipy.sparse.linalg import aslinearoperator\n",
    "from scipy.stats import ortho_group\n",
    "\n",
    "import tracelogdetdiag as tld\n",
    "from tracelogdetdiag.logdet import logdet_via_cholesky\n",
    "from tracelogdetdiag.diag import naive_diag, explicit_diag_probe\n",
    "from tracelogdetdiag.diaginv import naive_diaginv, explicit_diaginv_probe\n",
    "from tracelogdetdiag.trace import hutch_plus_plus_trace, hutch_plus_plus_epsilon_delta_trace, hutchinson_trace, hutchinson_epsilon_delta_trace\n",
    "from tracelogdetdiag.logdet import logdet_stochastic_chebyshev_approx, logdet_stochastic_chebyshev_epsilon_delta_approx"
   ]
  },
  {
   "cell_type": "markdown",
   "metadata": {},
   "source": [
    "# NumPy"
   ]
  },
  {
   "cell_type": "markdown",
   "metadata": {},
   "source": [
    "## Test matrix"
   ]
  },
  {
   "cell_type": "code",
   "execution_count": 2,
   "metadata": {},
   "outputs": [],
   "source": [
    "d = 100\n",
    "\n",
    "np.random.seed(0)\n",
    "basis = ortho_group.rvs(d)\n",
    "eigvals = np.random.uniform(low=5.0, high=10.0, size=d)\n",
    "B = basis @ np.diag(eigvals) @ basis.T\n",
    "true_logdet = logdet_via_cholesky(B)\n",
    "true_diag = np.diag(B)\n",
    "true_diaginv = np.diag(np.linalg.inv(B))\n",
    "true_trace = np.trace(B)\n",
    "B_explicit = B.copy()\n",
    "B = aslinearoperator(B)\n"
   ]
  },
  {
   "cell_type": "markdown",
   "metadata": {},
   "source": [
    "## Diagonal"
   ]
  },
  {
   "cell_type": "code",
   "execution_count": 3,
   "metadata": {},
   "outputs": [
    {
     "data": {
      "text/plain": [
       "array([0., 0., 0., 0., 0., 0., 0., 0., 0., 0., 0., 0., 0., 0., 0., 0., 0.,\n",
       "       0., 0., 0., 0., 0., 0., 0., 0., 0., 0., 0., 0., 0., 0., 0., 0., 0.,\n",
       "       0., 0., 0., 0., 0., 0., 0., 0., 0., 0., 0., 0., 0., 0., 0., 0., 0.,\n",
       "       0., 0., 0., 0., 0., 0., 0., 0., 0., 0., 0., 0., 0., 0., 0., 0., 0.,\n",
       "       0., 0., 0., 0., 0., 0., 0., 0., 0., 0., 0., 0., 0., 0., 0., 0., 0.,\n",
       "       0., 0., 0., 0., 0., 0., 0., 0., 0., 0., 0., 0., 0., 0., 0.])"
      ]
     },
     "execution_count": 3,
     "metadata": {},
     "output_type": "execute_result"
    }
   ],
   "source": [
    "explicit_diag_probe(B) - true_diag"
   ]
  },
  {
   "cell_type": "code",
   "execution_count": 4,
   "metadata": {},
   "outputs": [
    {
     "data": {
      "text/plain": [
       "array([ 8.43094693e-03, -1.25223562e-02, -4.73592191e-02,  4.35608115e-02,\n",
       "       -4.45923191e-02, -1.76802045e-02,  8.02166144e-02, -7.17044621e-02,\n",
       "       -4.21627017e-02, -9.31753573e-04,  1.83723302e-02, -6.90830999e-02,\n",
       "       -1.32597846e-02,  1.03354299e-02, -5.49389940e-02,  1.72362663e-02,\n",
       "        2.70525458e-02, -1.04746023e-01,  1.57269787e-02,  8.79181919e-02,\n",
       "       -4.26599842e-02,  4.13553995e-03, -1.26126246e-01, -2.41501291e-02,\n",
       "       -2.47651350e-02,  9.51324860e-04, -8.40951993e-02, -2.65819505e-02,\n",
       "       -9.03133357e-02,  4.57411090e-02, -3.39469692e-02, -6.09885149e-03,\n",
       "       -9.65331589e-03, -2.00244177e-03, -5.89663073e-02, -4.65574051e-02,\n",
       "        8.43231635e-02,  6.55250474e-02,  2.09011699e-02,  7.29635050e-02,\n",
       "        5.66430327e-02, -8.60005617e-03, -3.99461784e-02,  1.99937812e-02,\n",
       "       -4.50441399e-02,  2.24287570e-02,  5.13986603e-03, -7.65043456e-02,\n",
       "        7.32402662e-03, -1.42496096e-02, -3.73819709e-02,  3.98226237e-02,\n",
       "        1.14007917e-01,  9.00971545e-02, -3.92795401e-02,  7.70526317e-02,\n",
       "       -3.97676853e-02,  8.80278510e-06, -8.35874684e-03,  3.81407459e-02,\n",
       "       -2.06586663e-02,  2.91589917e-02,  4.41096603e-04, -6.90627584e-02,\n",
       "        2.02383216e-02,  4.11580343e-02,  9.12285070e-03, -8.50904635e-02,\n",
       "       -2.74683266e-02,  5.03475837e-02,  5.32125709e-02,  4.03882327e-03,\n",
       "       -3.40742203e-02, -1.12533064e-03, -4.98330822e-03, -2.93639323e-02,\n",
       "        1.04645426e-02, -1.64430332e-02,  2.81595827e-02,  2.68004654e-02,\n",
       "        1.40071988e-03, -4.13751173e-02, -3.99439705e-02,  1.84889385e-02,\n",
       "        4.56306411e-03, -3.80488838e-02, -8.65920321e-03, -4.66485261e-02,\n",
       "        6.10082393e-02,  6.63709958e-02,  5.50847591e-02,  1.94804235e-02,\n",
       "       -1.43959296e-02, -1.50741510e-02, -2.05529454e-03, -7.20555990e-02,\n",
       "       -1.25470923e-02,  6.46335366e-02, -3.79447257e-02, -1.61365155e-02])"
      ]
     },
     "execution_count": 4,
     "metadata": {},
     "output_type": "execute_result"
    }
   ],
   "source": [
    "naive_diag(B) - true_diag"
   ]
  },
  {
   "cell_type": "markdown",
   "metadata": {},
   "source": [
    "## Diagonal inverse"
   ]
  },
  {
   "cell_type": "code",
   "execution_count": 5,
   "metadata": {},
   "outputs": [
    {
     "data": {
      "text/plain": [
       "array([ 5.55111512e-17, -2.77555756e-17,  2.77555756e-17,  8.32667268e-17,\n",
       "       -5.55111512e-17,  0.00000000e+00,  0.00000000e+00, -2.77555756e-17,\n",
       "        0.00000000e+00, -1.11022302e-16,  0.00000000e+00, -2.77555756e-17,\n",
       "        2.77555756e-17,  0.00000000e+00, -2.77555756e-17,  2.77555756e-17,\n",
       "        5.55111512e-17,  2.77555756e-17,  8.32667268e-17,  0.00000000e+00,\n",
       "        0.00000000e+00,  5.55111512e-17, -5.55111512e-17, -8.32667268e-17,\n",
       "        0.00000000e+00,  8.32667268e-17,  0.00000000e+00,  2.77555756e-17,\n",
       "        0.00000000e+00,  0.00000000e+00,  2.77555756e-17, -2.77555756e-17,\n",
       "        2.77555756e-17,  0.00000000e+00, -2.77555756e-17, -2.77555756e-17,\n",
       "        2.77555756e-17,  5.55111512e-17,  5.55111512e-17,  5.55111512e-17,\n",
       "       -5.55111512e-17, -5.55111512e-17,  0.00000000e+00,  0.00000000e+00,\n",
       "        2.77555756e-17,  0.00000000e+00,  0.00000000e+00,  0.00000000e+00,\n",
       "        5.55111512e-17,  2.77555756e-17,  2.77555756e-17,  5.55111512e-17,\n",
       "        5.55111512e-17,  0.00000000e+00,  0.00000000e+00,  2.77555756e-17,\n",
       "        0.00000000e+00, -2.77555756e-17, -5.55111512e-17,  5.55111512e-17,\n",
       "       -2.77555756e-17, -2.77555756e-17,  5.55111512e-17,  0.00000000e+00,\n",
       "        0.00000000e+00,  5.55111512e-17, -8.32667268e-17,  2.77555756e-17,\n",
       "       -5.55111512e-17, -2.77555756e-17,  5.55111512e-17,  0.00000000e+00,\n",
       "        5.55111512e-17,  0.00000000e+00, -5.55111512e-17,  2.77555756e-17,\n",
       "        0.00000000e+00,  0.00000000e+00,  2.77555756e-17,  2.77555756e-17,\n",
       "        5.55111512e-17,  2.77555756e-17,  8.32667268e-17,  0.00000000e+00,\n",
       "        8.32667268e-17, -2.77555756e-17,  2.77555756e-17, -5.55111512e-17,\n",
       "       -2.77555756e-17,  5.55111512e-17,  2.77555756e-17,  5.55111512e-17,\n",
       "       -2.77555756e-17, -2.77555756e-17, -2.77555756e-17, -2.77555756e-17,\n",
       "        2.77555756e-17,  0.00000000e+00, -2.77555756e-17,  2.77555756e-17])"
      ]
     },
     "execution_count": 5,
     "metadata": {},
     "output_type": "execute_result"
    }
   ],
   "source": [
    "explicit_diaginv_probe(B_explicit) - true_diaginv"
   ]
  },
  {
   "cell_type": "code",
   "execution_count": 6,
   "metadata": {},
   "outputs": [
    {
     "data": {
      "text/plain": [
       "array([ 0.00866717, -0.00844657,  0.00442414,  0.00313819, -0.00283634,\n",
       "       -0.00176077,  0.00401723,  0.00384309, -0.00496591, -0.01552035,\n",
       "       -0.00553858, -0.00961716, -0.00012473, -0.00285512, -0.00305861,\n",
       "        0.00351386, -0.00036131, -0.00267292, -0.00800138, -0.00193513,\n",
       "        0.01082293,  0.00573904, -0.00346373,  0.01533509, -0.00999309,\n",
       "        0.00102349,  0.01081379, -0.00510388, -0.00092665, -0.00024388,\n",
       "        0.00253949, -0.00274681, -0.00741256,  0.00560801,  0.00291684,\n",
       "        0.00568469,  0.00109555,  0.00053872,  0.0056227 ,  0.00200898,\n",
       "        0.00105971,  0.00386607,  0.00250004,  0.00390176,  0.00129357,\n",
       "       -0.00281133,  0.00962792, -0.00189067, -0.01216109, -0.00268834,\n",
       "       -0.00179991, -0.00943469,  0.00025651,  0.00150102,  0.00250192,\n",
       "       -0.00459391, -0.01145364,  0.00033498, -0.0101512 ,  0.00330808,\n",
       "        0.00934712, -0.00735016, -0.00453767,  0.00479931,  0.01029238,\n",
       "        0.0024762 ,  0.0069954 , -0.00239568,  0.01256156,  0.00186513,\n",
       "        0.0070836 ,  0.00131997, -0.00222022, -0.00424791,  0.00677557,\n",
       "        0.00018549, -0.00062823,  0.01162165, -0.00029717,  0.00165502,\n",
       "       -0.00443114,  0.00412073,  0.00470861, -0.00988377, -0.0006742 ,\n",
       "       -0.00285812, -0.00437459,  0.00043732, -0.00042305, -0.00339902,\n",
       "        0.01224793,  0.00332142,  0.00638257,  0.01217576,  0.00585237,\n",
       "        0.00702207, -0.01392451, -0.00811619, -0.00045245,  0.01235329])"
      ]
     },
     "execution_count": 6,
     "metadata": {},
     "output_type": "execute_result"
    }
   ],
   "source": [
    "naive_diaginv(B_explicit, sample_size=20) - true_diaginv"
   ]
  },
  {
   "cell_type": "markdown",
   "metadata": {},
   "source": [
    "## Trace"
   ]
  },
  {
   "cell_type": "code",
   "execution_count": 7,
   "metadata": {},
   "outputs": [
    {
     "data": {
      "text/plain": [
       "751.9064661900678"
      ]
     },
     "execution_count": 7,
     "metadata": {},
     "output_type": "execute_result"
    }
   ],
   "source": [
    "true_trace"
   ]
  },
  {
   "cell_type": "code",
   "execution_count": 8,
   "metadata": {},
   "outputs": [
    {
     "data": {
      "text/plain": [
       "759.4477368560804"
      ]
     },
     "execution_count": 8,
     "metadata": {},
     "output_type": "execute_result"
    }
   ],
   "source": [
    "hutch_plus_plus_epsilon_delta_trace(B, epsilon=0.01, delta=0.01)"
   ]
  },
  {
   "cell_type": "code",
   "execution_count": 9,
   "metadata": {},
   "outputs": [
    {
     "data": {
      "text/plain": [
       "751.9064661900678"
      ]
     },
     "execution_count": 9,
     "metadata": {},
     "output_type": "execute_result"
    }
   ],
   "source": [
    "hutch_plus_plus_trace(B, sample_size=3*1000)"
   ]
  },
  {
   "cell_type": "code",
   "execution_count": 10,
   "metadata": {},
   "outputs": [
    {
     "data": {
      "text/plain": [
       "751.5140270206803"
      ]
     },
     "execution_count": 10,
     "metadata": {},
     "output_type": "execute_result"
    }
   ],
   "source": [
    "hutchinson_epsilon_delta_trace(B, epsilon=0.1, delta=0.1)"
   ]
  },
  {
   "cell_type": "code",
   "execution_count": 11,
   "metadata": {},
   "outputs": [
    {
     "data": {
      "text/plain": [
       "752.5617300863227"
      ]
     },
     "execution_count": 11,
     "metadata": {},
     "output_type": "execute_result"
    }
   ],
   "source": [
    "hutchinson_trace(B, sample_size=2000)"
   ]
  },
  {
   "cell_type": "markdown",
   "metadata": {},
   "source": [
    "## Logdet"
   ]
  },
  {
   "cell_type": "code",
   "execution_count": 12,
   "metadata": {},
   "outputs": [
    {
     "data": {
      "text/plain": [
       "199.82635170788498"
      ]
     },
     "execution_count": 12,
     "metadata": {},
     "output_type": "execute_result"
    }
   ],
   "source": [
    "true_logdet"
   ]
  },
  {
   "cell_type": "code",
   "execution_count": 13,
   "metadata": {},
   "outputs": [
    {
     "data": {
      "text/plain": [
       "199.9076408060301"
      ]
     },
     "execution_count": 13,
     "metadata": {},
     "output_type": "execute_result"
    }
   ],
   "source": [
    "logdet_stochastic_chebyshev_approx(B, sample_size=300)"
   ]
  },
  {
   "cell_type": "code",
   "execution_count": 14,
   "metadata": {},
   "outputs": [
    {
     "data": {
      "text/plain": [
       "199.85521538788862"
      ]
     },
     "execution_count": 14,
     "metadata": {},
     "output_type": "execute_result"
    }
   ],
   "source": [
    "logdet_stochastic_chebyshev_epsilon_delta_approx(B)"
   ]
  },
  {
   "cell_type": "code",
   "execution_count": null,
   "metadata": {},
   "outputs": [],
   "source": []
  },
  {
   "cell_type": "markdown",
   "metadata": {},
   "source": [
    "# CuPy"
   ]
  },
  {
   "cell_type": "markdown",
   "metadata": {},
   "source": [
    "## Test matrix"
   ]
  },
  {
   "cell_type": "code",
   "execution_count": 16,
   "metadata": {},
   "outputs": [],
   "source": [
    "import cupy as cp\n",
    "from cupyx.scipy.sparse.linalg import LinearOperator as CuPyLinearOperator\n",
    "from cupyx.scipy.sparse.linalg import aslinearoperator as cupyaslinearoperator"
   ]
  },
  {
   "cell_type": "code",
   "execution_count": 18,
   "metadata": {},
   "outputs": [],
   "source": [
    "d = 1000\n",
    "\n",
    "cp.random.seed(0)\n",
    "basis = ortho_group.rvs(d)\n",
    "eigvals = np.random.uniform(low=5.0, high=10.0, size=d)\n",
    "B_numpy = basis @ np.diag(eigvals) @ basis.T\n",
    "basis = cp.asarray(basis)\n",
    "B = basis @ cp.diag(cp.asarray(eigvals)) @ basis.T\n",
    "true_logdet = logdet_via_cholesky(B_numpy)\n",
    "true_diag = np.diag(B_numpy)\n",
    "true_diaginv = np.diag(np.linalg.inv(B_numpy))\n",
    "true_trace = np.trace(B_numpy)\n",
    "B_explicit = B_numpy.copy()\n",
    "B = cupyaslinearoperator(B)"
   ]
  },
  {
   "cell_type": "markdown",
   "metadata": {},
   "source": [
    "## Diagonal"
   ]
  },
  {
   "cell_type": "code",
   "execution_count": 20,
   "metadata": {},
   "outputs": [
    {
     "data": {
      "text/plain": [
       "array(6.24383744e-14)"
      ]
     },
     "execution_count": 20,
     "metadata": {},
     "output_type": "execute_result"
    }
   ],
   "source": [
    "cp.linalg.norm(explicit_diag_probe(B) - cp.asarray(true_diag))"
   ]
  },
  {
   "cell_type": "code",
   "execution_count": 21,
   "metadata": {},
   "outputs": [
    {
     "data": {
      "text/plain": [
       "array(0.00144637)"
      ]
     },
     "execution_count": 21,
     "metadata": {},
     "output_type": "execute_result"
    }
   ],
   "source": [
    "cp.linalg.norm(naive_diag(B) - cp.asarray(true_diag))/len(true_diag)"
   ]
  },
  {
   "cell_type": "markdown",
   "metadata": {},
   "source": [
    "## Diagonal inverse"
   ]
  },
  {
   "cell_type": "code",
   "execution_count": null,
   "metadata": {},
   "outputs": [],
   "source": []
  },
  {
   "cell_type": "code",
   "execution_count": null,
   "metadata": {},
   "outputs": [],
   "source": []
  },
  {
   "cell_type": "code",
   "execution_count": null,
   "metadata": {},
   "outputs": [],
   "source": []
  },
  {
   "cell_type": "markdown",
   "metadata": {},
   "source": [
    "## Trace"
   ]
  },
  {
   "cell_type": "code",
   "execution_count": null,
   "metadata": {},
   "outputs": [],
   "source": []
  },
  {
   "cell_type": "code",
   "execution_count": null,
   "metadata": {},
   "outputs": [],
   "source": []
  },
  {
   "cell_type": "code",
   "execution_count": null,
   "metadata": {},
   "outputs": [],
   "source": []
  },
  {
   "cell_type": "markdown",
   "metadata": {},
   "source": [
    "## Logdet"
   ]
  },
  {
   "cell_type": "code",
   "execution_count": null,
   "metadata": {},
   "outputs": [],
   "source": []
  }
 ],
 "metadata": {
  "kernelspec": {
   "display_name": "Python 3",
   "language": "python",
   "name": "python3"
  },
  "language_info": {
   "codemirror_mode": {
    "name": "ipython",
    "version": 3
   },
   "file_extension": ".py",
   "mimetype": "text/x-python",
   "name": "python",
   "nbconvert_exporter": "python",
   "pygments_lexer": "ipython3",
   "version": "3.8.8"
  }
 },
 "nbformat": 4,
 "nbformat_minor": 4
}
