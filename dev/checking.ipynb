{
 "cells": [
  {
   "cell_type": "code",
   "execution_count": 1,
   "metadata": {},
   "outputs": [],
   "source": [
    "import numpy as np\n",
    "from scipy.sparse.linalg import aslinearoperator\n",
    "from scipy.stats import ortho_group\n",
    "\n",
    "import tracelogdetdiag as tld\n",
    "from tracelogdetdiag.logdet import logdet_via_cholesky\n",
    "from tracelogdetdiag.diag import naive_diag, explicit_diag_probe\n",
    "from tracelogdetdiag.diaginv import naive_diaginv, explicit_diaginv_probe\n",
    "from tracelogdetdiag.trace import hutch_plus_plus_trace, hutch_plus_plus_epsilon_delta_trace, hutchinson_trace, hutchinson_epsilon_delta_trace\n",
    "from tracelogdetdiag.logdet import logdet_stochastic_chebyshev_approx, logdet_stochastic_chebyshev_epsilon_delta_approx"
   ]
  },
  {
   "attachments": {},
   "cell_type": "markdown",
   "metadata": {},
   "source": [
    "# NumPy"
   ]
  },
  {
   "attachments": {},
   "cell_type": "markdown",
   "metadata": {},
   "source": [
    "## Test matrix"
   ]
  },
  {
   "cell_type": "code",
   "execution_count": 2,
   "metadata": {},
   "outputs": [],
   "source": [
    "d = 100\n",
    "\n",
    "np.random.seed(0)\n",
    "basis = ortho_group.rvs(d)\n",
    "eigvals = np.random.uniform(low=5.0, high=10.0, size=d)\n",
    "B = basis @ np.diag(eigvals) @ basis.T\n",
    "true_logdet = logdet_via_cholesky(B)\n",
    "true_diag = np.diag(B)\n",
    "true_diaginv = np.diag(np.linalg.inv(B))\n",
    "true_trace = np.trace(B)\n",
    "B_explicit = B.copy()\n",
    "B = aslinearoperator(B)\n"
   ]
  },
  {
   "attachments": {},
   "cell_type": "markdown",
   "metadata": {},
   "source": [
    "## Diagonal"
   ]
  },
  {
   "cell_type": "code",
   "execution_count": 3,
   "metadata": {},
   "outputs": [
    {
     "data": {
      "text/plain": [
       "array([0., 0., 0., 0., 0., 0., 0., 0., 0., 0., 0., 0., 0., 0., 0., 0., 0.,\n",
       "       0., 0., 0., 0., 0., 0., 0., 0., 0., 0., 0., 0., 0., 0., 0., 0., 0.,\n",
       "       0., 0., 0., 0., 0., 0., 0., 0., 0., 0., 0., 0., 0., 0., 0., 0., 0.,\n",
       "       0., 0., 0., 0., 0., 0., 0., 0., 0., 0., 0., 0., 0., 0., 0., 0., 0.,\n",
       "       0., 0., 0., 0., 0., 0., 0., 0., 0., 0., 0., 0., 0., 0., 0., 0., 0.,\n",
       "       0., 0., 0., 0., 0., 0., 0., 0., 0., 0., 0., 0., 0., 0., 0.])"
      ]
     },
     "execution_count": 3,
     "metadata": {},
     "output_type": "execute_result"
    }
   ],
   "source": [
    "explicit_diag_probe(B) - true_diag"
   ]
  },
  {
   "cell_type": "code",
   "execution_count": 4,
   "metadata": {},
   "outputs": [
    {
     "data": {
      "text/plain": [
       "array([-3.43559959e-02,  1.84873093e-02, -6.48401868e-03, -1.27983367e-02,\n",
       "       -6.22031242e-03,  1.44348759e-02, -2.22599250e-02,  6.94515918e-02,\n",
       "       -4.86491765e-02,  8.96828666e-02, -8.41206338e-02, -1.50461390e-02,\n",
       "       -1.12136369e-04, -4.19203590e-02,  4.06737013e-02, -5.12897171e-03,\n",
       "       -7.30109428e-02, -2.54048535e-02,  3.55007192e-03,  7.40461146e-04,\n",
       "       -2.17098736e-02,  6.93133036e-03,  1.70748628e-02, -6.63547379e-02,\n",
       "       -7.62758077e-02, -9.64010875e-03,  9.63786176e-02, -4.23267073e-02,\n",
       "        4.18440077e-02,  7.67070752e-02,  3.50869261e-02, -4.15474795e-02,\n",
       "        9.34188869e-02,  6.25277077e-02, -1.73917825e-02,  4.51162514e-02,\n",
       "       -1.72480306e-02,  1.16287557e-02, -4.35860558e-02, -4.61223385e-03,\n",
       "       -5.58011430e-02,  8.81634955e-02,  4.01418092e-02, -4.02491385e-02,\n",
       "       -1.83808315e-02, -8.78012618e-02, -1.39030420e-02, -1.52303659e-02,\n",
       "       -9.63817221e-04, -1.21296345e-02, -2.38118520e-02,  2.56552576e-02,\n",
       "        6.51874222e-02,  2.17409145e-02,  2.85717770e-02, -7.07451902e-03,\n",
       "        4.08169522e-02, -3.72683927e-03,  6.35364709e-03, -8.30162256e-02,\n",
       "       -2.60342625e-02,  4.21943477e-02, -9.07114509e-03, -4.23904918e-02,\n",
       "       -5.72338611e-02,  2.27773508e-03,  3.53520445e-02, -2.85484198e-02,\n",
       "       -1.40244309e-02, -3.25665832e-02, -2.02612961e-02,  1.48123676e-02,\n",
       "       -3.42919185e-02,  1.54082050e-02,  7.50920349e-04,  9.62509939e-02,\n",
       "        1.13136391e-02, -1.03197940e-01,  4.85136953e-02,  3.24951289e-02,\n",
       "        8.61042162e-02,  1.75825236e-02, -5.89957415e-02, -2.39582307e-02,\n",
       "        2.51748693e-02,  7.26472664e-03, -5.51549971e-02, -6.46228216e-02,\n",
       "       -1.39812740e-02,  3.00566739e-02,  1.17947990e-01,  6.27586826e-03,\n",
       "       -2.77994540e-02,  9.87687347e-02,  1.48782794e-02,  5.76395620e-03,\n",
       "        1.45229329e-02,  7.52285893e-02,  4.90978097e-02,  5.82294174e-02])"
      ]
     },
     "execution_count": 4,
     "metadata": {},
     "output_type": "execute_result"
    }
   ],
   "source": [
    "naive_diag(B) - true_diag"
   ]
  },
  {
   "attachments": {},
   "cell_type": "markdown",
   "metadata": {},
   "source": [
    "## Diagonal inverse"
   ]
  },
  {
   "cell_type": "code",
   "execution_count": 5,
   "metadata": {},
   "outputs": [
    {
     "data": {
      "text/plain": [
       "array([ 2.77555756e-17,  2.77555756e-17,  0.00000000e+00, -2.77555756e-17,\n",
       "        0.00000000e+00,  2.77555756e-17,  2.77555756e-17,  0.00000000e+00,\n",
       "       -2.77555756e-17, -8.32667268e-17,  2.77555756e-17,  2.77555756e-17,\n",
       "        2.77555756e-17, -2.77555756e-17, -5.55111512e-17,  5.55111512e-17,\n",
       "       -5.55111512e-17,  0.00000000e+00, -5.55111512e-17,  0.00000000e+00,\n",
       "        0.00000000e+00,  2.77555756e-17,  2.77555756e-17,  0.00000000e+00,\n",
       "        0.00000000e+00, -2.77555756e-17,  2.77555756e-17, -2.77555756e-17,\n",
       "        2.77555756e-17,  2.77555756e-17,  5.55111512e-17,  0.00000000e+00,\n",
       "        0.00000000e+00,  2.77555756e-17, -5.55111512e-17,  2.77555756e-17,\n",
       "       -2.77555756e-17,  0.00000000e+00,  2.77555756e-17,  0.00000000e+00,\n",
       "        2.77555756e-17, -2.77555756e-17,  2.77555756e-17,  0.00000000e+00,\n",
       "        2.77555756e-17, -2.77555756e-17, -2.77555756e-17,  0.00000000e+00,\n",
       "        2.77555756e-17,  5.55111512e-17,  0.00000000e+00, -2.77555756e-17,\n",
       "        5.55111512e-17, -2.77555756e-17, -2.77555756e-17,  0.00000000e+00,\n",
       "        2.77555756e-17, -2.77555756e-17,  0.00000000e+00, -2.77555756e-17,\n",
       "        2.77555756e-17, -5.55111512e-17,  0.00000000e+00, -2.77555756e-17,\n",
       "        0.00000000e+00,  0.00000000e+00, -5.55111512e-17, -5.55111512e-17,\n",
       "        0.00000000e+00, -5.55111512e-17,  2.77555756e-17, -2.77555756e-17,\n",
       "        2.77555756e-17,  5.55111512e-17,  5.55111512e-17,  0.00000000e+00,\n",
       "       -2.77555756e-17,  0.00000000e+00, -2.77555756e-17, -2.77555756e-17,\n",
       "        2.77555756e-17,  5.55111512e-17,  2.77555756e-17, -5.55111512e-17,\n",
       "       -2.77555756e-17,  2.77555756e-17, -2.77555756e-17,  0.00000000e+00,\n",
       "        0.00000000e+00, -2.77555756e-17, -2.77555756e-17,  2.77555756e-17,\n",
       "        0.00000000e+00,  0.00000000e+00, -2.77555756e-17,  0.00000000e+00,\n",
       "        2.77555756e-17,  0.00000000e+00,  0.00000000e+00,  0.00000000e+00])"
      ]
     },
     "execution_count": 5,
     "metadata": {},
     "output_type": "execute_result"
    }
   ],
   "source": [
    "explicit_diaginv_probe(B_explicit) - true_diaginv"
   ]
  },
  {
   "cell_type": "code",
   "execution_count": 6,
   "metadata": {},
   "outputs": [
    {
     "data": {
      "text/plain": [
       "array([-0.00471889, -0.00861564, -0.0057984 ,  0.00109973, -0.01342509,\n",
       "        0.00099314, -0.00453394, -0.00364562, -0.00074555, -0.00224129,\n",
       "       -0.00698532, -0.0071619 ,  0.00203268, -0.00277637, -0.00529265,\n",
       "        0.00068859,  0.00515377, -0.00138805, -0.00251945, -0.00493543,\n",
       "       -0.00104649, -0.00608721,  0.00171939, -0.00164274, -0.00063705,\n",
       "        0.00915407, -0.00418932,  0.0028758 ,  0.00459588, -0.00393199,\n",
       "       -0.00841797, -0.00528054, -0.00549151,  0.0047718 ,  0.00274288,\n",
       "        0.01125847, -0.00879622,  0.00085156,  0.00138484, -0.00566558,\n",
       "       -0.00267387,  0.0001833 , -0.00442397,  0.00095498,  0.00032642,\n",
       "        0.00105554, -0.00321066, -0.00107542,  0.00541068,  0.00808827,\n",
       "       -0.00335957,  0.00252727,  0.00359217,  0.00599683,  0.00383187,\n",
       "       -0.00442563,  0.0058817 , -0.00102439, -0.01087727, -0.00189004,\n",
       "        0.00523295,  0.00707617,  0.00578611, -0.00360523, -0.00646649,\n",
       "        0.00628827,  0.00546547, -0.00671276, -0.00449197, -0.00718749,\n",
       "       -0.00339173, -0.00695092,  0.00193386, -0.00217684, -0.00584199,\n",
       "        0.00392308, -0.00772634, -0.0001362 ,  0.00524794, -0.0033322 ,\n",
       "       -0.00286876,  0.00459945, -0.00692516,  0.00898154,  0.00585321,\n",
       "       -0.00280235,  0.00688109,  0.01009802, -0.00954715,  0.00020843,\n",
       "       -0.00694129, -0.0017821 ,  0.00211818,  0.00166457, -0.0063411 ,\n",
       "        0.000606  , -0.00861917, -0.00589533,  0.00926725,  0.00499865])"
      ]
     },
     "execution_count": 6,
     "metadata": {},
     "output_type": "execute_result"
    }
   ],
   "source": [
    "naive_diaginv(B_explicit, sample_size=20) - true_diaginv"
   ]
  },
  {
   "attachments": {},
   "cell_type": "markdown",
   "metadata": {},
   "source": [
    "## Trace"
   ]
  },
  {
   "cell_type": "code",
   "execution_count": 7,
   "metadata": {},
   "outputs": [
    {
     "data": {
      "text/plain": [
       "745.0690170504758"
      ]
     },
     "execution_count": 7,
     "metadata": {},
     "output_type": "execute_result"
    }
   ],
   "source": [
    "true_trace"
   ]
  },
  {
   "cell_type": "code",
   "execution_count": 8,
   "metadata": {},
   "outputs": [
    {
     "data": {
      "text/plain": [
       "744.8991878941576"
      ]
     },
     "execution_count": 8,
     "metadata": {},
     "output_type": "execute_result"
    }
   ],
   "source": [
    "hutch_plus_plus_epsilon_delta_trace(B, epsilon=0.01, delta=0.01)"
   ]
  },
  {
   "cell_type": "code",
   "execution_count": 9,
   "metadata": {},
   "outputs": [
    {
     "data": {
      "text/plain": [
       "745.0690170504758"
      ]
     },
     "execution_count": 9,
     "metadata": {},
     "output_type": "execute_result"
    }
   ],
   "source": [
    "hutch_plus_plus_trace(B, sample_size=3*1000)"
   ]
  },
  {
   "cell_type": "code",
   "execution_count": 10,
   "metadata": {},
   "outputs": [
    {
     "data": {
      "text/plain": [
       "745.0512502213192"
      ]
     },
     "execution_count": 10,
     "metadata": {},
     "output_type": "execute_result"
    }
   ],
   "source": [
    "hutchinson_epsilon_delta_trace(B, epsilon=0.1, delta=0.1)"
   ]
  },
  {
   "cell_type": "code",
   "execution_count": 11,
   "metadata": {},
   "outputs": [
    {
     "data": {
      "text/plain": [
       "744.5254308243823"
      ]
     },
     "execution_count": 11,
     "metadata": {},
     "output_type": "execute_result"
    }
   ],
   "source": [
    "hutchinson_trace(B, sample_size=2000)"
   ]
  },
  {
   "attachments": {},
   "cell_type": "markdown",
   "metadata": {},
   "source": [
    "## Logdet"
   ]
  },
  {
   "cell_type": "code",
   "execution_count": 12,
   "metadata": {},
   "outputs": [
    {
     "data": {
      "text/plain": [
       "199.06687370895025"
      ]
     },
     "execution_count": 12,
     "metadata": {},
     "output_type": "execute_result"
    }
   ],
   "source": [
    "true_logdet"
   ]
  },
  {
   "cell_type": "code",
   "execution_count": 13,
   "metadata": {},
   "outputs": [
    {
     "data": {
      "text/plain": [
       "198.9909349774243"
      ]
     },
     "execution_count": 13,
     "metadata": {},
     "output_type": "execute_result"
    }
   ],
   "source": [
    "logdet_stochastic_chebyshev_approx(B, sample_size=300)"
   ]
  },
  {
   "cell_type": "code",
   "execution_count": 14,
   "metadata": {},
   "outputs": [
    {
     "data": {
      "text/plain": [
       "199.03614961611908"
      ]
     },
     "execution_count": 14,
     "metadata": {},
     "output_type": "execute_result"
    }
   ],
   "source": [
    "logdet_stochastic_chebyshev_epsilon_delta_approx(B)"
   ]
  },
  {
   "cell_type": "code",
   "execution_count": null,
   "metadata": {},
   "outputs": [],
   "source": []
  },
  {
   "attachments": {},
   "cell_type": "markdown",
   "metadata": {},
   "source": [
    "# CuPy"
   ]
  },
  {
   "attachments": {},
   "cell_type": "markdown",
   "metadata": {},
   "source": [
    "## Test matrix"
   ]
  },
  {
   "cell_type": "code",
   "execution_count": 16,
   "metadata": {},
   "outputs": [],
   "source": [
    "import cupy as cp\n",
    "from cupyx.scipy.sparse.linalg import LinearOperator as CuPyLinearOperator\n",
    "from cupyx.scipy.sparse.linalg import aslinearoperator as cupyaslinearoperator"
   ]
  },
  {
   "cell_type": "code",
   "execution_count": 18,
   "metadata": {},
   "outputs": [],
   "source": [
    "d = 1000\n",
    "\n",
    "cp.random.seed(0)\n",
    "basis = ortho_group.rvs(d)\n",
    "eigvals = np.random.uniform(low=5.0, high=10.0, size=d)\n",
    "B_numpy = basis @ np.diag(eigvals) @ basis.T\n",
    "basis = cp.asarray(basis)\n",
    "B = basis @ cp.diag(cp.asarray(eigvals)) @ basis.T\n",
    "true_logdet = logdet_via_cholesky(B_numpy)\n",
    "true_diag = np.diag(B_numpy)\n",
    "true_diaginv = np.diag(np.linalg.inv(B_numpy))\n",
    "true_trace = np.trace(B_numpy)\n",
    "B_explicit = B_numpy.copy()\n",
    "B = cupyaslinearoperator(B)"
   ]
  },
  {
   "attachments": {},
   "cell_type": "markdown",
   "metadata": {},
   "source": [
    "## Diagonal"
   ]
  },
  {
   "cell_type": "code",
   "execution_count": 20,
   "metadata": {},
   "outputs": [
    {
     "data": {
      "text/plain": [
       "array(6.24383744e-14)"
      ]
     },
     "execution_count": 20,
     "metadata": {},
     "output_type": "execute_result"
    }
   ],
   "source": [
    "cp.linalg.norm(explicit_diag_probe(B) - cp.asarray(true_diag))"
   ]
  },
  {
   "cell_type": "code",
   "execution_count": 21,
   "metadata": {},
   "outputs": [
    {
     "data": {
      "text/plain": [
       "array(0.00144637)"
      ]
     },
     "execution_count": 21,
     "metadata": {},
     "output_type": "execute_result"
    }
   ],
   "source": [
    "cp.linalg.norm(naive_diag(B) - cp.asarray(true_diag))/len(true_diag)"
   ]
  },
  {
   "attachments": {},
   "cell_type": "markdown",
   "metadata": {},
   "source": [
    "## Diagonal inverse"
   ]
  },
  {
   "cell_type": "code",
   "execution_count": null,
   "metadata": {},
   "outputs": [],
   "source": []
  },
  {
   "cell_type": "code",
   "execution_count": null,
   "metadata": {},
   "outputs": [],
   "source": []
  },
  {
   "cell_type": "code",
   "execution_count": null,
   "metadata": {},
   "outputs": [],
   "source": []
  },
  {
   "attachments": {},
   "cell_type": "markdown",
   "metadata": {},
   "source": [
    "## Trace"
   ]
  },
  {
   "cell_type": "code",
   "execution_count": null,
   "metadata": {},
   "outputs": [],
   "source": []
  },
  {
   "cell_type": "code",
   "execution_count": null,
   "metadata": {},
   "outputs": [],
   "source": []
  },
  {
   "cell_type": "code",
   "execution_count": null,
   "metadata": {},
   "outputs": [],
   "source": []
  },
  {
   "attachments": {},
   "cell_type": "markdown",
   "metadata": {},
   "source": [
    "## Logdet"
   ]
  },
  {
   "cell_type": "code",
   "execution_count": null,
   "metadata": {},
   "outputs": [],
   "source": []
  }
 ],
 "metadata": {
  "kernelspec": {
   "display_name": "Python 3",
   "language": "python",
   "name": "python3"
  },
  "language_info": {
   "codemirror_mode": {
    "name": "ipython",
    "version": 3
   },
   "file_extension": ".py",
   "mimetype": "text/x-python",
   "name": "python",
   "nbconvert_exporter": "python",
   "pygments_lexer": "ipython3",
   "version": "3.8.12"
  }
 },
 "nbformat": 4,
 "nbformat_minor": 4
}
