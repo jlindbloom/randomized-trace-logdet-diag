{
 "cells": [
  {
   "cell_type": "code",
   "execution_count": 1,
   "metadata": {},
   "outputs": [],
   "source": [
    "import numpy as np\n",
    "import matplotlib.pyplot as plt\n",
    "from scipy.linalg import qr as scipy_qr\n",
    "from scipy.sparse.linalg import LinearOperator"
   ]
  },
  {
   "cell_type": "code",
   "execution_count": 8,
   "metadata": {},
   "outputs": [],
   "source": [
    "# Problem parameters\n",
    "d = 100\n",
    "m = 3*100\n",
    "\n",
    "# Make matrix\n",
    "#np.random.seed(0)\n",
    "Atilde = np.random.normal(size=(d,d))\n",
    "Atilde = Atilde.T @ Atilde + 1e-3\n",
    "\n",
    "A = LinearOperator(dtype=None, shape=Atilde.shape, matvec=lambda x: Atilde @ x, rmatvec=lambda x: Atilde @ x)\n",
    "\n",
    "# Make S and G\n",
    "S = np.random.choice([-1, 1], size=(d, int(m/3)))\n",
    "G = np.random.choice([-1, 1], size=(d, int(m/3)))\n",
    "\n",
    "# Do QR decomp\n",
    "Q, R = scipy_qr(A @ S, mode=\"economic\")\n",
    "\n",
    "# Compute approximate trace\n",
    "term1 = np.trace(Q.T @ ( A @ Q ) )\n",
    "tmp =  A @ ( G - ( Q @ ( Q.T @ G ) ) )\n",
    "tmp2 = G.T @ ( tmp - Q @ ( Q.T @ tmp ) )\n",
    "term2 = (3/m)*np.trace(tmp2)\n",
    "trace_estimate = term1 + term2"
   ]
  },
  {
   "cell_type": "code",
   "execution_count": 63,
   "metadata": {},
   "outputs": [
    {
     "data": {
      "text/plain": [
       "9869.615962730915"
      ]
     },
     "execution_count": 63,
     "metadata": {},
     "output_type": "execute_result"
    }
   ],
   "source": [
    "# Make S and G\n",
    "S = np.random.choice([-1, 1], size=(d, int(m/3)))\n",
    "G = np.random.choice([-1, 1], size=(d, int(m/3)))\n",
    "\n",
    "# Do QR decomp\n",
    "Q, R = scipy_qr(A @ S, mode=\"economic\")\n",
    "\n",
    "# Compute approximate trace\n",
    "term1 = np.trace((Q.T @ A @ Q)) \n",
    "tmp =  A @ ( G - ( Q @ ( Q.T @ G ) ) )\n",
    "tmp2 = G.T @ ( tmp - Q @ ( Q.T @ tmp ) )\n",
    "term2 = (3/m)*np.trace(tmp2)\n",
    "trace_estimate = term1 + term2"
   ]
  },
  {
   "cell_type": "code",
   "execution_count": null,
   "metadata": {},
   "outputs": [],
   "source": []
  },
  {
   "cell_type": "code",
   "execution_count": 9,
   "metadata": {},
   "outputs": [],
   "source": [
    "def hutch_plus_plus_trace(A, sample_size=30, method=\"rademacher\"):\n",
    "    \"\"\"Computes the Hutchinson randomized estimator of tr(A). A must be SPSD.\n",
    "    \n",
    "    Here we compute the estimator with sample_size using blocks of samples of size ceil(sample_size/block_size).\n",
    "    This helps control memory usage vs. vectorization. We don't throw away any samples, so the estimator may be\n",
    "    computed with a slightly larger sample size than specified, unless exact_sample_size=True.\n",
    "\n",
    "    sample_size must be a multiple of 3.\n",
    "    \"\"\"\n",
    "\n",
    "    # Get shape\n",
    "    n = A.shape[0]\n",
    "\n",
    "    valid_methods = [\"standard_gaussian\", \"rademacher\"]\n",
    "    assert method in valid_methods, f\"method must be one of {valid_methods}\"\n",
    "\n",
    "    assert sample_size % 3 == 0, \"sample_size must be a multiple of 3.\"\n",
    "    \n",
    "    if method == \"rademacher\":\n",
    "        S = np.random.choice([-1, 1], size=(n, int(sample_size/3)))\n",
    "        G = np.random.choice([-1, 1], size=(n, int(sample_size/3)))\n",
    "    elif method == \"standard_gaussian\":\n",
    "        S = np.random.normal(size=(n, int(sample_size/3)))\n",
    "        G = np.random.normal(size=(n, int(sample_size/3)))\n",
    "    else:\n",
    "        raise NotImplementedError\n",
    "\n",
    "    # Do QR decomp\n",
    "    Q, _ = scipy_qr(A @ S, mode=\"economic\")\n",
    "\n",
    "    # Compute approximate trace\n",
    "    term1 = np.trace(Q.T @ ( A @ Q ) )\n",
    "    tmp =  A @ ( G - ( Q @ ( Q.T @ G ) ) )\n",
    "    tmp2 = G.T @ ( tmp - Q @ ( Q.T @ tmp ) )\n",
    "    term2 = (3/m)*np.trace(tmp2)\n",
    "    trace_estimate = term1 + term2\n",
    "    \n",
    "    return trace_estimate"
   ]
  },
  {
   "cell_type": "code",
   "execution_count": null,
   "metadata": {},
   "outputs": [],
   "source": []
  },
  {
   "cell_type": "code",
   "execution_count": null,
   "metadata": {},
   "outputs": [],
   "source": []
  },
  {
   "cell_type": "code",
   "execution_count": null,
   "metadata": {},
   "outputs": [],
   "source": []
  },
  {
   "cell_type": "code",
   "execution_count": null,
   "metadata": {},
   "outputs": [],
   "source": [
    "\n",
    "def hutchinson_epsilon_delta_trace(A, epsilon=0.05, delta=0.05, method=\"rademacher\", block_size=20):\n",
    "    \"\"\"Computes an (epsilon, delta)-estimator of trace(A). A must be SPSD. This uses lower-bounds from the literature to pick a sample size \n",
    "    for the Hutchinson estimator \\hat{tr}(A) such that | \\hat{tr}(A) - tr(A) | < epsilon*tr(A) with probability greater than 1 - delta.\"\"\"\n",
    "    \n",
    "    valid_methods = [\"standard_gaussian\", \"rademacher\"]\n",
    "    assert method in valid_methods, f\"method must be one of {valid_methods}\"\n",
    "\n",
    "    c = (1.0/(epsilon**2))*np.log(2/delta)\n",
    "\n",
    "    if method == \"standard_gaussian\":\n",
    "        sample_size = int(np.ceil(8*c))\n",
    "    elif method == \"rademacher\":\n",
    "        sample_size = int(np.ceil(6*c))\n",
    "    else:\n",
    "        raise NotImplementedError\n",
    "\n",
    "    return hutchinson_trace(A, sample_size=sample_size, method=method, block_size=block_size)"
   ]
  },
  {
   "cell_type": "code",
   "execution_count": null,
   "metadata": {},
   "outputs": [],
   "source": []
  },
  {
   "cell_type": "code",
   "execution_count": null,
   "metadata": {},
   "outputs": [],
   "source": []
  },
  {
   "cell_type": "code",
   "execution_count": null,
   "metadata": {},
   "outputs": [],
   "source": []
  }
 ],
 "metadata": {
  "kernelspec": {
   "display_name": "speckle38",
   "language": "python",
   "name": "python3"
  },
  "language_info": {
   "codemirror_mode": {
    "name": "ipython",
    "version": 3
   },
   "file_extension": ".py",
   "mimetype": "text/x-python",
   "name": "python",
   "nbconvert_exporter": "python",
   "pygments_lexer": "ipython3",
   "version": "3.8.12"
  },
  "orig_nbformat": 4
 },
 "nbformat": 4,
 "nbformat_minor": 2
}
