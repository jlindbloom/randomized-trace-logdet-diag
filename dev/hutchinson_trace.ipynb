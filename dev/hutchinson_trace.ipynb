{
 "cells": [
  {
   "cell_type": "code",
   "execution_count": 1,
   "metadata": {},
   "outputs": [],
   "source": [
    "import numpy as np\n",
    "import matplotlib.pyplot as plt"
   ]
  },
  {
   "cell_type": "code",
   "execution_count": 6,
   "metadata": {},
   "outputs": [],
   "source": [
    "# Generate a random matrix A\n",
    "n = 100\n",
    "A = np.random.normal(size=(n,n))\n",
    "A = A.T @ A"
   ]
  },
  {
   "cell_type": "code",
   "execution_count": 9,
   "metadata": {},
   "outputs": [
    {
     "name": "stdout",
     "output_type": "stream",
     "text": [
      "9853.117915203333\n"
     ]
    }
   ],
   "source": [
    "# Compute exact trace\n",
    "exact_trace = np.trace(A)\n",
    "print(exact_trace)"
   ]
  },
  {
   "cell_type": "code",
   "execution_count": 24,
   "metadata": {},
   "outputs": [
    {
     "name": "stdout",
     "output_type": "stream",
     "text": [
      "9850.907655301266\n"
     ]
    }
   ],
   "source": [
    "# Randomized method (normal method)\n",
    "n_samples = 1000\n",
    "vals = []\n",
    "for j in range(n_samples):\n",
    "    # Draw random vector\n",
    "    w = np.random.normal(size=n)\n",
    "\n",
    "    # Compute product\n",
    "    val = w.T @ A @ w\n",
    "\n",
    "    # Append\n",
    "    vals.append(val)\n",
    "\n",
    "print(np.mean(vals))"
   ]
  },
  {
   "cell_type": "code",
   "execution_count": 52,
   "metadata": {},
   "outputs": [
    {
     "data": {
      "text/plain": [
       "61.7"
      ]
     },
     "execution_count": 52,
     "metadata": {},
     "output_type": "execute_result"
    }
   ],
   "source": [
    "1234 / 20"
   ]
  },
  {
   "cell_type": "code",
   "execution_count": 54,
   "metadata": {},
   "outputs": [
    {
     "data": {
      "text/plain": [
       "1240"
      ]
     },
     "execution_count": 54,
     "metadata": {},
     "output_type": "execute_result"
    }
   ],
   "source": [
    "20*62"
   ]
  },
  {
   "cell_type": "code",
   "execution_count": null,
   "metadata": {},
   "outputs": [],
   "source": []
  },
  {
   "cell_type": "code",
   "execution_count": null,
   "metadata": {},
   "outputs": [],
   "source": []
  },
  {
   "cell_type": "code",
   "execution_count": 55,
   "metadata": {},
   "outputs": [],
   "source": [
    "def hutchinson_trace(A, sample_size=100, block_size=20, method=\"rademacher\", exact_sample_size=False):\n",
    "    \"\"\"Computes the Hutchinson randomized estimator of tr(A).\n",
    "    \n",
    "    Here we compute the estimator with sample_size using blocks of samples of size ceil(sample_size/block_size).\n",
    "    This helps control memory usage vs. vectorization. We don't throw away any samples, so the estimator may be\n",
    "    computed with a slightly larger sample size than specified, unless exact_sample_size=True.\n",
    "    \"\"\"\n",
    "\n",
    "    valid_methods = [\"standard_gaussian\", \"rademacher\"]\n",
    "    assert method in valid_methods, f\"method must be one of {valid_methods}\"\n",
    "\n",
    "    # Handle blocks\n",
    "    n_blocks = int(np.ceil(sample_size/block_size))\n",
    "    extra_samples = (block_size*n_blocks) - sample_size\n",
    "\n",
    "    block_sums = []\n",
    "    for j in range(n_blocks):\n",
    "\n",
    "        # Draw random block of vectors\n",
    "        if method == \"standard_gaussian\":\n",
    "            w = np.random.normal(size=(n, block_size))\n",
    "        elif method == \"rademacher\":\n",
    "            w = np.random.choice([-1, 1], size=(n, block_size))\n",
    "        else:\n",
    "            raise NotImplementedError\n",
    "        \n",
    "        if (j == n_blocks - 1) and (exact_sample_size == True):\n",
    "            w = w[:,:-extra_samples]\n",
    "        \n",
    "        # Append block sum\n",
    "        block_sum = np.sum( ( w.T.dot(A)*w.T).sum(axis=1) )\n",
    "        block_sums.append(block_sum)\n",
    "\n",
    "    tot_sum = np.sum(block_sums)\n",
    "    if exact_sample_size:\n",
    "        estimate = tot_sum/sample_size\n",
    "    else:\n",
    "        estimate = tot_sum/(block_size*n_blocks)\n",
    "\n",
    "    return estimate"
   ]
  },
  {
   "cell_type": "code",
   "execution_count": 57,
   "metadata": {},
   "outputs": [
    {
     "data": {
      "text/plain": [
       "9825.37155319561"
      ]
     },
     "execution_count": 57,
     "metadata": {},
     "output_type": "execute_result"
    }
   ],
   "source": [
    "hutchinson_trace(A, sample_size=1000, method=\"standard_gaussian\")"
   ]
  },
  {
   "cell_type": "code",
   "execution_count": 61,
   "metadata": {},
   "outputs": [
    {
     "data": {
      "text/plain": [
       "9826.337326542633"
      ]
     },
     "execution_count": 61,
     "metadata": {},
     "output_type": "execute_result"
    }
   ],
   "source": [
    "hutchinson_trace(A, sample_size=1000, method=\"rademacher\")"
   ]
  },
  {
   "attachments": {},
   "cell_type": "markdown",
   "metadata": {},
   "source": [
    "# Probabilistic bounds"
   ]
  },
  {
   "cell_type": "code",
   "execution_count": 64,
   "metadata": {},
   "outputs": [],
   "source": [
    "def hutchinson_epsilon_delta_trace(A, epsilon=0.05, delta=0.05, method=\"rademacher\", block_size=20):\n",
    "    \"\"\"Computes an (epsilon, delta)-estimator of trace(A). This uses lower-bounds from the literature to pick a sample size \n",
    "    for the Hutchinson estimator \\hat{tr}(A) such that | \\hat{tr}(A) - tr(A) | < epsilon*tr(A) with probability greater than 1 - delta.\"\"\"\n",
    "    \n",
    "    valid_methods = [\"standard_gaussian\", \"rademacher\"]\n",
    "    assert method in valid_methods, f\"method must be one of {valid_methods}\"\n",
    "\n",
    "    c = (1.0/(epsilon**2))*np.log(2/delta)\n",
    "\n",
    "    if method == \"standard_gaussian\":\n",
    "        sample_size = int(np.ceil(8*c))\n",
    "    elif method == \"rademacher\":\n",
    "        sample_size = int(np.ceil(6*c))\n",
    "    else:\n",
    "        raise NotImplementedError\n",
    "\n",
    "    return hutchinson_trace(A, sample_size=sample_size, method=method, block_size=block_size)\n"
   ]
  },
  {
   "cell_type": "code",
   "execution_count": 66,
   "metadata": {},
   "outputs": [
    {
     "name": "stdout",
     "output_type": "stream",
     "text": [
      "1.0\n"
     ]
    }
   ],
   "source": [
    "n_experiments = 100\n",
    "epsilon = 0.05\n",
    "min_prob = 0.95\n",
    "delta = 1.0 - min_prob\n",
    "\n",
    "exact_trace = np.trace(A)\n",
    "n_successes = 0\n",
    "\n",
    "for j in range(n_experiments):\n",
    "    trace_estimate = hutchinson_epsilon_delta_trace(A, epsilon=epsilon, delta=delta, block_size=1)\n",
    "    if np.abs(trace_estimate - exact_trace) < epsilon*exact_trace:\n",
    "        n_successes += 1\n",
    "\n",
    "print(n_successes/n_experiments)"
   ]
  },
  {
   "cell_type": "code",
   "execution_count": null,
   "metadata": {},
   "outputs": [],
   "source": []
  },
  {
   "cell_type": "code",
   "execution_count": null,
   "metadata": {},
   "outputs": [],
   "source": []
  }
 ],
 "metadata": {
  "kernelspec": {
   "display_name": "speckle38",
   "language": "python",
   "name": "python3"
  },
  "language_info": {
   "codemirror_mode": {
    "name": "ipython",
    "version": 3
   },
   "file_extension": ".py",
   "mimetype": "text/x-python",
   "name": "python",
   "nbconvert_exporter": "python",
   "pygments_lexer": "ipython3",
   "version": "3.8.12"
  },
  "orig_nbformat": 4
 },
 "nbformat": 4,
 "nbformat_minor": 2
}
