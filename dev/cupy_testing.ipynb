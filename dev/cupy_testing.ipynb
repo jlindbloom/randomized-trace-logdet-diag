{
 "cells": [
  {
   "cell_type": "code",
   "execution_count": 3,
   "id": "4f0fed49",
   "metadata": {},
   "outputs": [],
   "source": [
    "import numpy as np\n",
    "import matplotlib.pyplot as plt\n",
    "\n",
    "from scipy.linalg import qr as scipy_qr\n",
    "\n",
    "import cupy as cp\n",
    "\n",
    "from cupyx.scipy.sparse.linalg import LinearOperator as CuPyLinearOperator\n",
    "from cupyx.scipy.sparse.linalg import aslinearoperator as cupyaslinearoperator\n",
    "from scipy.sparse.linalg import LinearOperator, aslinearoperator\n",
    "\n",
    "from tracelogdetdiag import CUPY_INSTALLED"
   ]
  },
  {
   "cell_type": "code",
   "execution_count": null,
   "id": "ec0e867b",
   "metadata": {},
   "outputs": [],
   "source": []
  },
  {
   "cell_type": "markdown",
   "id": "669165f2",
   "metadata": {},
   "source": [
    "# Trace functions"
   ]
  },
  {
   "cell_type": "markdown",
   "id": "4ec9537b",
   "metadata": {},
   "source": [
    "## Explicit trace"
   ]
  },
  {
   "cell_type": "code",
   "execution_count": 21,
   "id": "fe4478e5",
   "metadata": {},
   "outputs": [],
   "source": [
    "def explicit_trace_probe(A):\n",
    "    \"\"\"Computes the trace of A using an explicit probe. Requires exactly n matvecs with A.\n",
    "    \"\"\"\n",
    "\n",
    "    # Setup\n",
    "    n = A.shape[0]\n",
    "    diagonal = np.zeros(n)\n",
    "    \n",
    "    # Handle CuPy\n",
    "    if CUPY_INSTALLED:\n",
    "        if isinstance(A, CuPyLinearOperator):\n",
    "            xp = cp\n",
    "        else:\n",
    "            xp = np\n",
    "    else:\n",
    "        xp = np\n",
    "    \n",
    "    for j in range(n):\n",
    "\n",
    "        # jth column of the identity\n",
    "        w = xp.zeros(n)\n",
    "        w[j] = 1.0\n",
    "\n",
    "        # Compute w^T A w\n",
    "        diagonal[j] = w.T @ (A @ w)\n",
    "\n",
    "    trace = xp.sum(diagonal)\n",
    "\n",
    "    return trace"
   ]
  },
  {
   "cell_type": "code",
   "execution_count": 17,
   "id": "7ddc3190",
   "metadata": {},
   "outputs": [],
   "source": [
    "n = 1000\n",
    "A = cp.diag(cp.ones(n))\n",
    "A = cupyaslinearoperator(A)"
   ]
  },
  {
   "cell_type": "code",
   "execution_count": 18,
   "id": "eb7b122f",
   "metadata": {},
   "outputs": [
    {
     "name": "stdout",
     "output_type": "stream",
     "text": [
      "150 ms ± 1.27 ms per loop (mean ± std. dev. of 7 runs, 10 loops each)\n"
     ]
    }
   ],
   "source": [
    "%%timeit\n",
    "explicit_trace_probe(A)"
   ]
  },
  {
   "cell_type": "code",
   "execution_count": 19,
   "id": "81842b5e",
   "metadata": {},
   "outputs": [],
   "source": [
    "n = 1000\n",
    "A = np.diag(np.ones(n))\n",
    "A = aslinearoperator(A)"
   ]
  },
  {
   "cell_type": "code",
   "execution_count": 20,
   "id": "7381c77c",
   "metadata": {},
   "outputs": [
    {
     "name": "stdout",
     "output_type": "stream",
     "text": [
      "1.49 s ± 122 ms per loop (mean ± std. dev. of 7 runs, 1 loop each)\n"
     ]
    }
   ],
   "source": [
    "%%timeit\n",
    "explicit_trace_probe(A)"
   ]
  },
  {
   "cell_type": "markdown",
   "id": "25516c44",
   "metadata": {},
   "source": [
    "## Hutchinson trace"
   ]
  },
  {
   "cell_type": "code",
   "execution_count": 40,
   "id": "03a13607",
   "metadata": {},
   "outputs": [],
   "source": [
    "def hutchinson_trace(A, sample_size=100, block_size=20, method=\"rademacher\", exact_sample_size=False):\n",
    "    \"\"\"Computes the Hutchinson randomized estimator of tr(A). A must be SPSD.\n",
    "    \n",
    "    Here we compute the estimator with sample_size using blocks of samples of size ceil(sample_size/block_size).\n",
    "    This helps control memory usage vs. vectorization. We don't throw away any samples, so the estimator may be\n",
    "    computed with a slightly larger sample size than specified, unless exact_sample_size=True.\n",
    "    \"\"\"\n",
    "\n",
    "    # Get shape\n",
    "    n = A.shape[0]\n",
    "\n",
    "    valid_methods = [\"standard_gaussian\", \"rademacher\"]\n",
    "    assert method in valid_methods, f\"method must be one of {valid_methods}\"\n",
    "    \n",
    "    # Handle CuPy\n",
    "    if CUPY_INSTALLED:\n",
    "        if isinstance(A, CuPyLinearOperator):\n",
    "            xp = cp\n",
    "        else:\n",
    "            xp = np\n",
    "    else:\n",
    "        xp = np\n",
    "\n",
    "    # Handle blocks\n",
    "    n_blocks = int(xp.ceil(sample_size/block_size))\n",
    "    extra_samples = (block_size*n_blocks) - sample_size\n",
    "\n",
    "    block_sums = []\n",
    "    for j in range(n_blocks):\n",
    "\n",
    "        # Draw random block of vectors\n",
    "        if method == \"standard_gaussian\":\n",
    "            w = xp.random.normal(size=(n, block_size))\n",
    "        elif method == \"rademacher\":\n",
    "            w = xp.random.choice([-1, 1], size=(n, block_size))\n",
    "        else:\n",
    "            raise NotImplementedError\n",
    "        \n",
    "        if (j == n_blocks - 1) and (exact_sample_size == True):\n",
    "            w = w[:,:-extra_samples]\n",
    "        \n",
    "        # Append block sum\n",
    "        block_sum = xp.sum( ( (A.T @ w).T * w.T ).sum(axis=1)  )\n",
    "        block_sums.append(block_sum)\n",
    "\n",
    "    tot_sum = xp.sum(xp.asarray(block_sums))\n",
    "    if exact_sample_size:\n",
    "        estimate = tot_sum/sample_size\n",
    "    else:\n",
    "        estimate = tot_sum/(block_size*n_blocks)\n",
    "\n",
    "    return estimate"
   ]
  },
  {
   "cell_type": "code",
   "execution_count": 41,
   "id": "28cc4b7d",
   "metadata": {},
   "outputs": [],
   "source": [
    "n = 1000\n",
    "A = cp.diag(cp.ones(n))\n",
    "A = cupyaslinearoperator(A)"
   ]
  },
  {
   "cell_type": "code",
   "execution_count": 43,
   "id": "049f96ac",
   "metadata": {},
   "outputs": [
    {
     "data": {
      "text/plain": [
       "array(1000.)"
      ]
     },
     "execution_count": 43,
     "metadata": {},
     "output_type": "execute_result"
    }
   ],
   "source": [
    "hutchinson_trace(A, sample_size=100)"
   ]
  },
  {
   "cell_type": "code",
   "execution_count": 55,
   "id": "52b80531",
   "metadata": {},
   "outputs": [],
   "source": [
    "n = 1000\n",
    "A = np.diag(np.ones(n))\n",
    "A = np.random.normal(size=(n,n))\n",
    "A = A.T @ A\n",
    "A_explicit = A\n",
    "A = aslinearoperator(A)"
   ]
  },
  {
   "cell_type": "code",
   "execution_count": 56,
   "id": "d04a904c",
   "metadata": {},
   "outputs": [
    {
     "data": {
      "text/plain": [
       "996328.7208544658"
      ]
     },
     "execution_count": 56,
     "metadata": {},
     "output_type": "execute_result"
    }
   ],
   "source": [
    "hutchinson_trace(A, sample_size=100)"
   ]
  },
  {
   "cell_type": "code",
   "execution_count": 57,
   "id": "3dad6024",
   "metadata": {},
   "outputs": [
    {
     "data": {
      "text/plain": [
       "998738.7970635407"
      ]
     },
     "execution_count": 57,
     "metadata": {},
     "output_type": "execute_result"
    }
   ],
   "source": [
    "np.trace(A_explicit)"
   ]
  },
  {
   "cell_type": "markdown",
   "id": "c766eb0a",
   "metadata": {},
   "source": [
    "## Hutchinson epsilon delta trace"
   ]
  },
  {
   "cell_type": "code",
   "execution_count": 59,
   "id": "c33a1576",
   "metadata": {},
   "outputs": [],
   "source": [
    "def hutchinson_epsilon_delta_trace(A, epsilon=0.05, delta=0.05, method=\"rademacher\", block_size=20):\n",
    "    \"\"\"Computes an (epsilon, delta)-estimator of trace(A). A must be SPSD. This uses lower-bounds from the literature to pick a sample size \n",
    "    for the Hutchinson estimator \\hat{tr}(A) such that | \\hat{tr}(A) - tr(A) | < epsilon*tr(A) with probability greater than 1 - delta.\"\"\"\n",
    "    \n",
    "    valid_methods = [\"standard_gaussian\", \"rademacher\"]\n",
    "    assert method in valid_methods, f\"method must be one of {valid_methods}\"\n",
    "\n",
    "    c = (1.0/(epsilon**2))*np.log(2/delta)\n",
    "\n",
    "    if method == \"standard_gaussian\":\n",
    "        sample_size = int(np.ceil(8*c))\n",
    "    elif method == \"rademacher\":\n",
    "        sample_size = int(np.ceil(6*c))\n",
    "    else:\n",
    "        raise NotImplementedError\n",
    "\n",
    "    return hutchinson_trace(A, sample_size=sample_size, method=method, block_size=block_size)"
   ]
  },
  {
   "cell_type": "code",
   "execution_count": 63,
   "id": "a761d07f",
   "metadata": {},
   "outputs": [],
   "source": [
    "n = 1000\n",
    "A = cp.random.normal(size=(n,n))\n",
    "A = A.T @ A\n",
    "A_explicit = A\n",
    "A = cupyaslinearoperator(A)"
   ]
  },
  {
   "cell_type": "code",
   "execution_count": 64,
   "id": "0d50d034",
   "metadata": {},
   "outputs": [
    {
     "data": {
      "text/plain": [
       "array(1001181.10634622)"
      ]
     },
     "execution_count": 64,
     "metadata": {},
     "output_type": "execute_result"
    }
   ],
   "source": [
    "hutchinson_epsilon_delta_trace(A)"
   ]
  },
  {
   "cell_type": "code",
   "execution_count": 65,
   "id": "118bb3b9",
   "metadata": {},
   "outputs": [
    {
     "data": {
      "text/plain": [
       "array(1000602.81951611)"
      ]
     },
     "execution_count": 65,
     "metadata": {},
     "output_type": "execute_result"
    }
   ],
   "source": [
    "cp.trace(A_explicit)"
   ]
  },
  {
   "cell_type": "code",
   "execution_count": 66,
   "id": "0a5b29d9",
   "metadata": {},
   "outputs": [],
   "source": [
    "n = 1000\n",
    "A = np.random.normal(size=(n,n))\n",
    "A = A.T @ A\n",
    "A_explicit = A\n",
    "A = aslinearoperator(A)"
   ]
  },
  {
   "cell_type": "code",
   "execution_count": 67,
   "id": "fcbb04cd",
   "metadata": {},
   "outputs": [
    {
     "data": {
      "text/plain": [
       "997953.8389890403"
      ]
     },
     "execution_count": 67,
     "metadata": {},
     "output_type": "execute_result"
    }
   ],
   "source": [
    "hutchinson_epsilon_delta_trace(A)"
   ]
  },
  {
   "cell_type": "code",
   "execution_count": 69,
   "id": "7e9d6f6c",
   "metadata": {},
   "outputs": [
    {
     "data": {
      "text/plain": [
       "998479.5191945141"
      ]
     },
     "execution_count": 69,
     "metadata": {},
     "output_type": "execute_result"
    }
   ],
   "source": [
    "np.trace(A_explicit)"
   ]
  },
  {
   "cell_type": "markdown",
   "id": "88fedda9",
   "metadata": {},
   "source": [
    "## Hutchinson plus plus trace"
   ]
  },
  {
   "cell_type": "code",
   "execution_count": 82,
   "id": "24deb1f3",
   "metadata": {},
   "outputs": [],
   "source": [
    "def hutch_plus_plus_trace(A, sample_size=30, method=\"rademacher\"):\n",
    "    \"\"\"Computes the Hutch++ randomized estimator of tr(A). A must be SPSD. This is an improved estimator over\n",
    "    the Hutchinson estimator. See [9].\n",
    "    \n",
    "    sample_size must be a multiple of 3.\n",
    "    \"\"\"\n",
    "\n",
    "    # Get shape\n",
    "    n = A.shape[0]\n",
    "    \n",
    "    # Handle CuPy\n",
    "    if CUPY_INSTALLED:\n",
    "        if isinstance(A, CuPyLinearOperator):\n",
    "            xp = cp\n",
    "        else:\n",
    "            xp = np\n",
    "    else:\n",
    "        xp = np\n",
    "\n",
    "    valid_methods = [\"standard_gaussian\", \"rademacher\"]\n",
    "    assert method in valid_methods, f\"method must be one of {valid_methods}\"\n",
    "\n",
    "    assert sample_size % 3 == 0, \"sample_size must be a multiple of 3.\"\n",
    "    \n",
    "    if method == \"rademacher\":\n",
    "        S = xp.random.choice([-1, 1], size=(n, int(sample_size/3)))\n",
    "        G = xp.random.choice([-1, 1], size=(n, int(sample_size/3)))\n",
    "    elif method == \"standard_gaussian\":\n",
    "        S = xp.random.normal(size=(n, int(sample_size/3)))\n",
    "        G = xp.random.normal(size=(n, int(sample_size/3)))\n",
    "    else:\n",
    "        raise NotImplementedError\n",
    "\n",
    "    # Do QR decomp\n",
    "    if xp == np: \n",
    "        Q, _ = scipy_qr(A @ S, mode=\"economic\")\n",
    "    else:\n",
    "        Q, _ = cp.linalg.qr(A @ S, mode=\"reduced\")\n",
    "\n",
    "    # Compute approximate trace\n",
    "    term1 = xp.trace(Q.T @ ( A @ Q ) )\n",
    "    tmp =  A @ ( G - ( Q @ ( Q.T @ G ) ) )\n",
    "    tmp2 = G.T @ ( tmp - Q @ ( Q.T @ tmp ) )\n",
    "    term2 = (3/sample_size)*xp.trace(tmp2)\n",
    "    trace_estimate = term1 + term2\n",
    "    \n",
    "    return trace_estimate"
   ]
  },
  {
   "cell_type": "code",
   "execution_count": 83,
   "id": "53320329",
   "metadata": {},
   "outputs": [],
   "source": [
    "n = 1000\n",
    "A = np.random.normal(size=(n,n))\n",
    "A = A.T @ A\n",
    "A_explicit = A\n",
    "A = aslinearoperator(A)"
   ]
  },
  {
   "cell_type": "code",
   "execution_count": 84,
   "id": "3c9f7dac",
   "metadata": {},
   "outputs": [
    {
     "data": {
      "text/plain": [
       "995198.0410103138"
      ]
     },
     "execution_count": 84,
     "metadata": {},
     "output_type": "execute_result"
    }
   ],
   "source": [
    "hutch_plus_plus_trace(A)"
   ]
  },
  {
   "cell_type": "code",
   "execution_count": 85,
   "id": "68af8480",
   "metadata": {},
   "outputs": [
    {
     "data": {
      "text/plain": [
       "1000590.7331808059"
      ]
     },
     "execution_count": 85,
     "metadata": {},
     "output_type": "execute_result"
    }
   ],
   "source": [
    "np.trace(A_explicit)"
   ]
  },
  {
   "cell_type": "code",
   "execution_count": 86,
   "id": "7de078af",
   "metadata": {},
   "outputs": [],
   "source": [
    "n = 1000\n",
    "A = cp.random.normal(size=(n,n))\n",
    "A = A.T @ A\n",
    "A_explicit = A\n",
    "A = cupyaslinearoperator(A)"
   ]
  },
  {
   "cell_type": "code",
   "execution_count": 87,
   "id": "38df131f",
   "metadata": {},
   "outputs": [
    {
     "data": {
      "text/plain": [
       "array(993471.93523797)"
      ]
     },
     "execution_count": 87,
     "metadata": {},
     "output_type": "execute_result"
    }
   ],
   "source": [
    "hutch_plus_plus_trace(A)"
   ]
  },
  {
   "cell_type": "markdown",
   "id": "afbf83b3",
   "metadata": {},
   "source": [
    "## Hutch plus plus"
   ]
  },
  {
   "cell_type": "code",
   "execution_count": 90,
   "id": "091412dd",
   "metadata": {},
   "outputs": [],
   "source": [
    "def hutch_plus_plus_epsilon_delta_trace(A, epsilon=0.05, delta=0.05, method=\"rademacher\"):\n",
    "    \"\"\"Computes an (epsilon, delta)-estimator of trace(A) using the Hutch++ algorithm. A must be SPSD. This uses lower-bounds from the literature to pick a sample size \n",
    "    for the Hutch++ estimator \\hat{tr}(A) such that | \\hat{tr}(A) - tr(A) | < epsilon*tr(A) with probability greater than 1 - delta. See [9].\"\"\"\n",
    "    \n",
    "    valid_methods = [\"standard_gaussian\", \"rademacher\"]\n",
    "    assert method in valid_methods, f\"method must be one of {valid_methods}\"\n",
    "\n",
    "    sample_size = int( np.ceil( (np.sqrt(np.log(1/delta))/epsilon) + np.log(1/delta) ) )\n",
    "    sample_size = int(3*np.ceil(sample_size/3))\n",
    "\n",
    "    return hutch_plus_plus_trace(A, sample_size=sample_size, method=method)"
   ]
  },
  {
   "cell_type": "code",
   "execution_count": 91,
   "id": "6e65716a",
   "metadata": {},
   "outputs": [],
   "source": [
    "n = 1000\n",
    "A = cp.random.normal(size=(n,n))\n",
    "A = A.T @ A\n",
    "A_explicit = A\n",
    "A = cupyaslinearoperator(A)"
   ]
  },
  {
   "cell_type": "code",
   "execution_count": 92,
   "id": "28d0ad4f",
   "metadata": {},
   "outputs": [
    {
     "data": {
      "text/plain": [
       "array(1001249.73319405)"
      ]
     },
     "execution_count": 92,
     "metadata": {},
     "output_type": "execute_result"
    }
   ],
   "source": [
    "hutch_plus_plus_epsilon_delta_trace(A)"
   ]
  },
  {
   "cell_type": "code",
   "execution_count": 94,
   "id": "9e1ed7bf",
   "metadata": {},
   "outputs": [],
   "source": [
    "n = 1000\n",
    "A = np.random.normal(size=(n,n))\n",
    "A = A.T @ A\n",
    "A_explicit = A\n",
    "A = aslinearoperator(A)"
   ]
  },
  {
   "cell_type": "code",
   "execution_count": 95,
   "id": "ab115ebc",
   "metadata": {},
   "outputs": [
    {
     "data": {
      "text/plain": [
       "1007033.9071842971"
      ]
     },
     "execution_count": 95,
     "metadata": {},
     "output_type": "execute_result"
    }
   ],
   "source": [
    "hutch_plus_plus_trace(A)"
   ]
  },
  {
   "cell_type": "markdown",
   "id": "f60d4075",
   "metadata": {},
   "source": [
    "# Logdet"
   ]
  },
  {
   "cell_type": "markdown",
   "id": "c0236ea4",
   "metadata": {},
   "source": [
    "## Explicit -- NOT supported"
   ]
  },
  {
   "cell_type": "code",
   "execution_count": null,
   "id": "6f9ef98b",
   "metadata": {},
   "outputs": [],
   "source": []
  },
  {
   "cell_type": "markdown",
   "id": "3c3be600",
   "metadata": {},
   "source": [
    "## Util"
   ]
  },
  {
   "cell_type": "code",
   "execution_count": null,
   "id": "201b455e",
   "metadata": {},
   "outputs": [],
   "source": []
  },
  {
   "cell_type": "markdown",
   "id": "852c933d",
   "metadata": {},
   "source": [
    "## Stochastic Chebyshev"
   ]
  },
  {
   "cell_type": "code",
   "execution_count": 97,
   "id": "7d640b6d",
   "metadata": {},
   "outputs": [],
   "source": [
    "from scipy.sparse.linalg import eigs as scipy_eigs\n",
    "from cupyx.scipy.sparse.linalg import eigsh as cupy_eigsh"
   ]
  },
  {
   "cell_type": "code",
   "execution_count": 104,
   "id": "7ad75069",
   "metadata": {},
   "outputs": [],
   "source": [
    "\n",
    "def evaluate_ith_chebyshev_polynomial(xs, i):\n",
    "    \"\"\"Evaluates the ith Chebyshev polynomial at imputs xs.\"\"\"\n",
    "    tprev = np.ones_like(xs)\n",
    "    tnext = xs.copy()\n",
    "    if i == 0:\n",
    "        return tprev\n",
    "    elif i == 1:\n",
    "        return tnext\n",
    "    else:\n",
    "        k = 1\n",
    "        while k < i:\n",
    "            tnew = 2*xs*tnext - tprev\n",
    "            tprev = tnext\n",
    "            tnext = tnew\n",
    "            k += 1\n",
    "        return tnew\n",
    "    \n",
    "\n",
    "\n",
    "def get_chebyshev_coeff(f, n, i):\n",
    "    \"\"\"Computes the ith Chebyshev coefficient in the expansion\n",
    "            f(x) \\approx \\sum_{j=0}^n c_j T_j(x).\n",
    "    Here f:[-1,1] \\to \\mathbb{R}. \n",
    "    \"\"\"\n",
    "\n",
    "    # Get nodes\n",
    "    ks = np.arange(n+1)\n",
    "    xks = np.cos(  np.pi*( ks + 0.5 )/(n+1)  )\n",
    "\n",
    "    if i == 0:\n",
    "        chebyshev_coeff = (1/(n+1))*(f(xks)*1).sum()\n",
    "    else:\n",
    "        chebyshev_coeff = (2/(n+1))*(f(xks)*evaluate_ith_chebyshev_polynomial(xks, i) ).sum()\n",
    "        \n",
    "\n",
    "    return chebyshev_coeff\n",
    "\n",
    "\n"
   ]
  },
  {
   "cell_type": "code",
   "execution_count": 105,
   "id": "f9a6c15c",
   "metadata": {},
   "outputs": [],
   "source": [
    "def logdet_stochastic_chebyshev_approx(C, sigma_max=None, sigma_min=None, sample_size=100, chebyshev_n=14):\n",
    "    \"\"\"Computes an approximation to logdet(C) for a SPSD matrix C, using the \n",
    "    stochastic Chebyshev approximation detailed in [7]. Eigenvalues of C are assumed to lie in\n",
    "    the interval [sigma_min, sigma_max].\n",
    "\n",
    "    Modified from author code here: https://alinlab.kaist.ac.kr/publications.html.\n",
    "    \"\"\"\n",
    "\n",
    "    # Get dimension\n",
    "    d = C.shape[0]\n",
    "    \n",
    "    # Handle CuPy\n",
    "    if CUPY_INSTALLED:\n",
    "        if isinstance(A, CuPyLinearOperator):\n",
    "            xp = cp\n",
    "        else:\n",
    "            xp = np\n",
    "    else:\n",
    "        xp = np\n",
    "    \n",
    "    if (sigma_max is None) and (sigma_min is None):\n",
    "\n",
    "        # Get largest and smallest singular values\n",
    "        if xp == np:\n",
    "            sigma_max, _ = scipy_eigs(C, k=1, which=\"LM\")\n",
    "            sigma_min, _ = scipy_eigs(C, k=1, which=\"SM\")\n",
    "            sigma_max, sigma_min = np.real(sigma_max[0]), np.real(sigma_min[0])\n",
    "        else:\n",
    "            sigma_max, _ = cupy_eigsh(C, k=1, which=\"LM\")\n",
    "            sigma_min, _ = cupy_eigsh(C, k=1, which=\"SA\")\n",
    "            sigma_max, sigma_min = cp.real(sigma_max[0]), cp.real(sigma_min[0])\n",
    "            sigma_max, sigma_min = cp.asnumpy(sigma_max), cp.asnumpy(sigma_min) \n",
    "\n",
    "    # Scaling\n",
    "    a = sigma_min + sigma_max\n",
    "    delta = sigma_min/a\n",
    "\n",
    "    # Make B\n",
    "    B = (1/a)*C\n",
    "    logdet_estimate = 0.0\n",
    "\n",
    "    # Funcs\n",
    "    f = lambda x: np.log(1-x)\n",
    "    g = lambda x: ((1-2*delta)/2)*x + 0.5\n",
    "    ginv = lambda x: (2/(1-2*delta))*x\n",
    "    h = lambda x: f(g(x))\n",
    "\n",
    "    # Get Chebyshev coeffs\n",
    "    chebyshev_coeffs = [ get_chebyshev_coeff(h, chebyshev_n, i) for i in range(0, chebyshev_n+1) ]\n",
    "\n",
    "    # Random sampling\n",
    "    for j in range(sample_size):\n",
    "        \n",
    "        # Draw random vector\n",
    "        v = xp.random.choice([-1, 1], size=d)\n",
    "        u = chebyshev_coeffs[0]*v\n",
    "\n",
    "        if chebyshev_n > 1:\n",
    "            w0 = v\n",
    "            w1 = B @ v\n",
    "            w1 = ginv(w1)\n",
    "            w1 = v/(1 - 2*delta) - w1\n",
    "            u = chebyshev_coeffs[1]*w1 + chebyshev_coeffs[0]*w0\n",
    "\n",
    "            for k in range(2, chebyshev_n+1):\n",
    "\n",
    "                w2 = B @ w1\n",
    "                w2 = ginv(w2)\n",
    "                w2 = w1/(1 - 2*delta) - w2\n",
    "                w2 = 2*w2 - w0\n",
    "                u = chebyshev_coeffs[k]*w2 + u\n",
    "                w0 = w1\n",
    "                w1 = w2\n",
    "        \n",
    "        logdet_estimate += (xp.dot(v, u))/sample_size\n",
    "\n",
    "    logdet_estimate += d*xp.log(a)\n",
    "\n",
    "    return logdet_estimate\n",
    "\n",
    "\n",
    "\n",
    "# def logdet_stochastic_chebyshev_epsilon_delta_approx(C, epsilon=0.1, zeta=0.1, sample_size=None, details=False):\n",
    "#     \"\"\"Computes an approximation to logdet(C) for a SPD matrix C, using the \n",
    "#     stochastic Chebyshev approximation detailed in [7]. Returns an estimate\n",
    "#     \\hat{logdet}(C) s.t. |logdet(C) - \\hat{logdet}(C)| < epsilon*|logdet(C)| \n",
    "#     with at least probaility 1-zeta. \n",
    "\n",
    "#     If you override sample_size (which you might do since the bound is loose), you\n",
    "#     no longer have the same guarantee.\n",
    "\n",
    "#     Modified from author code here: https://alinlab.kaist.ac.kr/publications.html.\n",
    "#     \"\"\"\n",
    "\n",
    "#     # Get largest and smallest singular values\n",
    "#     sigma_max, _ = scipy_eigs(C, k=1, which=\"LM\")\n",
    "#     sigma_min, _ = scipy_eigs(C, k=1, which=\"SM\")\n",
    "#     sigma_max, sigma_min = np.real(sigma_max[0]), np.real(sigma_min[0])\n",
    "#     kappa = sigma_max/sigma_min\n",
    "\n",
    "#     # Compute M and N\n",
    "#     M = (14/(epsilon**2))*((np.log(1 + (kappa**2)))**2)*np.log(2/zeta) # lower bound on sample size\n",
    "#     N_denom = np.log( ( np.sqrt(2*(kappa**2) + 1) + 1  ) / ( np.sqrt(2*(kappa**2) + 1) - 1 )  )\n",
    "#     N_num = np.log( (20/epsilon)*( np.sqrt( 2*(kappa**2) + 1 ) - 1 )*( (np.log(2 + 2*(kappa**2))) / (np.log(1 + (1/(kappa**2))))  )  )\n",
    "#     N = N_num/N_denom # chebyshev_n\n",
    "\n",
    "#     M = int(np.ceil(M))\n",
    "#     N = int(np.ceil(N))\n",
    "\n",
    "#     if details == True:\n",
    "#         print(f\"Using {M} samples.\")\n",
    "#         print(f\"Using Chebyshev polynomials of order {N}.\")\n",
    "\n",
    "#     return logdet_stochastic_chebyshev_approx(C, sigma_max, sigma_min, sample_size=M, chebyshev_n=N)\n",
    "\n",
    "\n"
   ]
  },
  {
   "cell_type": "code",
   "execution_count": 106,
   "id": "16577782",
   "metadata": {},
   "outputs": [],
   "source": [
    "n = 1000\n",
    "A = cp.random.normal(size=(n,n))\n",
    "A = A.T @ A\n",
    "A_explicit = A\n",
    "A = cupyaslinearoperator(A)"
   ]
  },
  {
   "cell_type": "code",
   "execution_count": 113,
   "id": "7480dbcc",
   "metadata": {},
   "outputs": [
    {
     "data": {
      "text/plain": [
       "array(5950.97281134)"
      ]
     },
     "execution_count": 113,
     "metadata": {},
     "output_type": "execute_result"
    }
   ],
   "source": [
    "logdet_stochastic_chebyshev_approx(A, sample_size=1000, chebyshev_n=30)"
   ]
  },
  {
   "cell_type": "code",
   "execution_count": 110,
   "id": "aa2446eb",
   "metadata": {},
   "outputs": [],
   "source": [
    "def logdet_via_cholesky(A, banded_cholesky=False):\n",
    "    \"\"\"Computes logdet(A) using the Cholesky method. A must be SPD.\"\"\"\n",
    "\n",
    "    if not banded_cholesky:\n",
    "        chol = np.linalg.cholesky(A)\n",
    "    else:\n",
    "        raise NotImplementedError\n",
    "\n",
    "    return 2*np.sum(np.log(np.diag(chol)))"
   ]
  },
  {
   "cell_type": "code",
   "execution_count": 111,
   "id": "a15598b3",
   "metadata": {},
   "outputs": [
    {
     "data": {
      "text/plain": [
       "5903.710338458119"
      ]
     },
     "execution_count": 111,
     "metadata": {},
     "output_type": "execute_result"
    }
   ],
   "source": [
    "logdet_via_cholesky(cp.asnumpy(A_explicit))"
   ]
  },
  {
   "cell_type": "code",
   "execution_count": 114,
   "id": "97d5732b",
   "metadata": {},
   "outputs": [],
   "source": [
    "n = 1000\n",
    "A = np.random.normal(size=(n,n))\n",
    "A = A.T @ A\n",
    "A_explicit = A\n",
    "A = aslinearoperator(A)"
   ]
  },
  {
   "cell_type": "code",
   "execution_count": 115,
   "id": "93ae2b6e",
   "metadata": {},
   "outputs": [
    {
     "data": {
      "text/plain": [
       "5950.228124871075"
      ]
     },
     "execution_count": 115,
     "metadata": {},
     "output_type": "execute_result"
    }
   ],
   "source": [
    "logdet_stochastic_chebyshev_approx(A, sample_size=1000, chebyshev_n=30)"
   ]
  },
  {
   "cell_type": "markdown",
   "id": "933b62c6",
   "metadata": {},
   "source": [
    "# Diag"
   ]
  },
  {
   "cell_type": "markdown",
   "id": "a9ee9c10",
   "metadata": {},
   "source": [
    "## Explicit"
   ]
  },
  {
   "cell_type": "code",
   "execution_count": 117,
   "id": "2738ce6e",
   "metadata": {},
   "outputs": [],
   "source": [
    "def explicit_diag_probe(A):\n",
    "    \"\"\"Computes the diagonal of A using an explicit probe. Requires exactly n matvecs with A.\n",
    "    \"\"\"\n",
    "\n",
    "    # Handle CuPy\n",
    "    if CUPY_INSTALLED:\n",
    "        if isinstance(A, CuPyLinearOperator):\n",
    "            xp = cp\n",
    "        else:\n",
    "            xp = np\n",
    "    else:\n",
    "        xp = np\n",
    "    \n",
    "    # Setup\n",
    "    n = A.shape[0]\n",
    "    diagonal = xp.zeros(n)\n",
    "\n",
    "    for j in range(n):\n",
    "\n",
    "        # jth column of the identity\n",
    "        w = xp.zeros(n)\n",
    "        w[j] = 1.0\n",
    "\n",
    "        # Compute w^T A w\n",
    "        diagonal[j] = w.T @ (A @ w)\n",
    "\n",
    "    return diagonal"
   ]
  },
  {
   "cell_type": "code",
   "execution_count": 118,
   "id": "515edb9b",
   "metadata": {},
   "outputs": [],
   "source": [
    "n = 1000\n",
    "A = cp.random.normal(size=(n,n))\n",
    "A = A.T @ A\n",
    "A_explicit = A\n",
    "A = cupyaslinearoperator(A)"
   ]
  },
  {
   "cell_type": "code",
   "execution_count": 120,
   "id": "11a314a3",
   "metadata": {},
   "outputs": [
    {
     "data": {
      "text/plain": [
       "array(0.)"
      ]
     },
     "execution_count": 120,
     "metadata": {},
     "output_type": "execute_result"
    }
   ],
   "source": [
    "np.linalg.norm(explicit_diag_probe(A) - cp.diag(A_explicit))"
   ]
  },
  {
   "cell_type": "markdown",
   "id": "de7054d2",
   "metadata": {},
   "source": [
    "## Naive diag"
   ]
  },
  {
   "cell_type": "code",
   "execution_count": 121,
   "id": "75c1a05b",
   "metadata": {},
   "outputs": [],
   "source": [
    "def naive_diag(A, sample_size=1000):\n",
    "    \"\"\"Naive unbiased estimator for the diagonal of a matrix, see [5]. A must be SPSD.\n",
    "    \"\"\"\n",
    "\n",
    "    # Get shape\n",
    "    n = A.shape[0]\n",
    "    \n",
    "    # Handle CuPy\n",
    "    if CUPY_INSTALLED:\n",
    "        if isinstance(A, CuPyLinearOperator):\n",
    "            xp = cp\n",
    "        else:\n",
    "            xp = np\n",
    "    else:\n",
    "        xp = np\n",
    "\n",
    "    diag_estimate = xp.zeros(n)\n",
    "    tk = xp.zeros(n)\n",
    "    qk = xp.zeros(n)\n",
    "\n",
    "    for j in range(sample_size):\n",
    "        \n",
    "        # Draw random vector\n",
    "        vk = xp.random.choice([-1, 1], size=n)\n",
    "\n",
    "        # Update tk\n",
    "        tk = tk + ((A @ vk) * vk)\n",
    "\n",
    "        # Update qk\n",
    "        qk = qk + (vk*vk)\n",
    "\n",
    "        # Update diag_estimate\n",
    "        diag_estimate = tk / qk\n",
    "\n",
    "    return diag_estimate"
   ]
  },
  {
   "cell_type": "code",
   "execution_count": 122,
   "id": "f442670e",
   "metadata": {},
   "outputs": [],
   "source": [
    "n = 1000\n",
    "A = cp.random.normal(size=(n,n))\n",
    "A = A.T @ A\n",
    "A_explicit = A\n",
    "A = cupyaslinearoperator(A)"
   ]
  },
  {
   "cell_type": "code",
   "execution_count": 127,
   "id": "823e4caa",
   "metadata": {},
   "outputs": [
    {
     "data": {
      "text/plain": [
       "array(0.31204026)"
      ]
     },
     "execution_count": 127,
     "metadata": {},
     "output_type": "execute_result"
    }
   ],
   "source": [
    "np.linalg.norm(naive_diag(A,  sample_size=10000) - cp.diag(A_explicit))/n"
   ]
  },
  {
   "cell_type": "code",
   "execution_count": null,
   "id": "c2dfdc3f",
   "metadata": {},
   "outputs": [],
   "source": []
  },
  {
   "cell_type": "markdown",
   "id": "c41ad1e2",
   "metadata": {},
   "source": [
    "# Diaginv"
   ]
  },
  {
   "cell_type": "markdown",
   "id": "c09f69c7",
   "metadata": {},
   "source": [
    "## Explicit"
   ]
  },
  {
   "cell_type": "code",
   "execution_count": null,
   "id": "2ccb2ce7",
   "metadata": {},
   "outputs": [],
   "source": [
    "def explicit_diaginv_probe(A, method=\"cholesky\"):\n",
    "    \"\"\"Computes the diagonal of inv(A) using an explicit probe. A must be SPD.\n",
    "    \"\"\"\n",
    "\n",
    "    valid_methods = [\"cholesky\"]\n",
    "    assert method in valid_methods, f\"method must be one of {valid_methods}\"\n",
    "\n",
    "    # Setup\n",
    "    n = A.shape[0]\n",
    "    diagonal_inv = np.zeros(n)\n",
    "\n",
    "    if method == \"cholesky\":\n",
    "        chol = scipy_chol_fac(A)\n",
    "    else:\n",
    "        raise NotImplementedError\n",
    "\n",
    "    for j in range(n):\n",
    "\n",
    "        # jth column of the identity\n",
    "        w = np.zeros(n)\n",
    "        w[j] = 1.0\n",
    "\n",
    "        # Compute w^T inv(A) w\n",
    "        if method == \"cholesky\":\n",
    "            Ainv_w = scipy_chol_solve(chol, w)\n",
    "        else:\n",
    "            raise NotImplementedError\n",
    "\n",
    "        diagonal_inv[j] = w.T @ Ainv_w\n",
    "\n",
    "    return diagonal_inv"
   ]
  },
  {
   "cell_type": "code",
   "execution_count": null,
   "id": "a4173702",
   "metadata": {},
   "outputs": [],
   "source": []
  },
  {
   "cell_type": "markdown",
   "id": "89a787a7",
   "metadata": {},
   "source": [
    "# Trace of inverse?"
   ]
  },
  {
   "cell_type": "code",
   "execution_count": 5,
   "id": "7a235513",
   "metadata": {},
   "outputs": [],
   "source": [
    "from tracelogdetdiag.util import AinvCGLinearOperator\n",
    "from tracelogdetdiag.util import AinvCGCuPyLinearOperator"
   ]
  },
  {
   "cell_type": "code",
   "execution_count": 6,
   "id": "f3b88fb7",
   "metadata": {},
   "outputs": [],
   "source": [
    "n = 1000\n",
    "A = cp.random.normal(size=(n,n))\n",
    "A = A.T @ A\n",
    "A_explicit = A\n",
    "A = cupyaslinearoperator(A)"
   ]
  },
  {
   "cell_type": "code",
   "execution_count": 10,
   "id": "35c6ad5b",
   "metadata": {},
   "outputs": [],
   "source": [
    "Ainv = AinvCGCuPyLinearOperator(A, cg_tol=1e-2, cg_maxits=2000)"
   ]
  },
  {
   "cell_type": "code",
   "execution_count": 11,
   "id": "3bd21112",
   "metadata": {},
   "outputs": [],
   "source": [
    "z = cp.ones(n)"
   ]
  },
  {
   "cell_type": "code",
   "execution_count": 13,
   "id": "00524013",
   "metadata": {},
   "outputs": [],
   "source": [
    "Ainv_sol = Ainv @ z"
   ]
  },
  {
   "cell_type": "code",
   "execution_count": 14,
   "id": "8e594efa",
   "metadata": {},
   "outputs": [],
   "source": [
    "Ainv_sol = cp.asnumpy(Ainv_sol)"
   ]
  },
  {
   "cell_type": "code",
   "execution_count": 15,
   "id": "11105c13",
   "metadata": {},
   "outputs": [],
   "source": [
    "A_explicit = cp.asnumpy(A_explicit)"
   ]
  },
  {
   "cell_type": "code",
   "execution_count": 16,
   "id": "73b06b8f",
   "metadata": {},
   "outputs": [],
   "source": [
    "np_sol = np.linalg.solve(A_explicit, cp.asnumpy(z))"
   ]
  },
  {
   "cell_type": "code",
   "execution_count": 17,
   "id": "65be8e93",
   "metadata": {},
   "outputs": [
    {
     "data": {
      "text/plain": [
       "0.0004166200113511358"
      ]
     },
     "execution_count": 17,
     "metadata": {},
     "output_type": "execute_result"
    }
   ],
   "source": [
    "np.linalg.norm(Ainv_sol - np_sol)"
   ]
  },
  {
   "cell_type": "code",
   "execution_count": null,
   "id": "c35c34ef",
   "metadata": {},
   "outputs": [],
   "source": []
  }
 ],
 "metadata": {
  "kernelspec": {
   "display_name": "Python 3",
   "language": "python",
   "name": "python3"
  },
  "language_info": {
   "codemirror_mode": {
    "name": "ipython",
    "version": 3
   },
   "file_extension": ".py",
   "mimetype": "text/x-python",
   "name": "python",
   "nbconvert_exporter": "python",
   "pygments_lexer": "ipython3",
   "version": "3.8.8"
  }
 },
 "nbformat": 4,
 "nbformat_minor": 5
}
