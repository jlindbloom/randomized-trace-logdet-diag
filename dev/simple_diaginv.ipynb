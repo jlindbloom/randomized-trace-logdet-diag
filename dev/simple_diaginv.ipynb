{
 "cells": [
  {
   "cell_type": "code",
   "execution_count": 1,
   "metadata": {},
   "outputs": [],
   "source": [
    "import numpy as np\n",
    "import matplotlib.pyplot as plt\n",
    "from scipy.linalg import cho_factor as scipy_chol_fac\n",
    "from scipy.linalg import cho_solve as scipy_chol_solve"
   ]
  },
  {
   "cell_type": "code",
   "execution_count": 12,
   "metadata": {},
   "outputs": [],
   "source": [
    "# Generate a random matrix A\n",
    "n = 100\n",
    "A = np.random.normal(size=(n,n))\n",
    "A = A.T @ A + 1e-3"
   ]
  },
  {
   "cell_type": "code",
   "execution_count": 3,
   "metadata": {},
   "outputs": [],
   "source": [
    "chol = scipy_chol_fac(A)"
   ]
  },
  {
   "cell_type": "code",
   "execution_count": 4,
   "metadata": {},
   "outputs": [],
   "source": [
    "z = np.ones(n)"
   ]
  },
  {
   "cell_type": "code",
   "execution_count": 5,
   "metadata": {},
   "outputs": [
    {
     "data": {
      "text/plain": [
       "array([ 1.93622895e-12, -1.30899735e-11,  1.37809764e-11, -1.52178270e-12,\n",
       "        4.22284430e-12, -4.83435514e-12, -1.01785247e-12, -6.04138961e-12,\n",
       "        1.49231738e-11,  3.98259203e-11, -9.27613542e-12, -9.15889586e-12,\n",
       "        6.88604729e-12,  1.54756208e-11, -1.14397380e-11,  8.64197602e-12,\n",
       "       -3.75521836e-11, -1.10063070e-11,  3.04964942e-11,  2.12132534e-11,\n",
       "        2.75122147e-11, -7.89945886e-12, -1.12088117e-12,  1.50421897e-11,\n",
       "       -2.11137774e-11, -2.47224463e-12,  2.94697600e-12, -1.47135637e-11,\n",
       "        3.00870440e-12, -7.06212866e-13,  6.67732536e-12,  1.47224455e-11,\n",
       "        2.75051093e-11, -6.81926737e-13,  4.09983159e-11,  1.11040066e-11,\n",
       "        7.35278505e-12, -1.39657175e-11, -1.94688710e-11, -7.81952281e-12,\n",
       "        3.26636496e-11, -1.00719433e-11, -2.63042921e-11,  4.32454073e-12,\n",
       "       -1.63886682e-11, -4.87521135e-12,  7.87014898e-12,  2.55724331e-11,\n",
       "        1.32782674e-11, -1.39834810e-11,  6.85451695e-13, -9.67226299e-12,\n",
       "        1.07238662e-11,  4.14157597e-12, -1.71951342e-11, -1.09974252e-11,\n",
       "       -2.05098161e-11,  8.66506866e-12, -5.39657208e-12,  1.77280413e-11,\n",
       "        1.63744573e-11,  2.52455834e-11, -4.60498306e-12, -1.03250741e-12,\n",
       "       -9.96713823e-12,  3.26636496e-11, -1.06279430e-11, -5.85931303e-12,\n",
       "        4.27302638e-12, -8.40927328e-12, -1.07842624e-11,  6.36912745e-12,\n",
       "       -1.77102777e-11, -1.68913772e-11,  2.75512946e-11,  1.88080662e-11,\n",
       "        3.26352279e-11, -1.92557081e-11,  1.17257315e-11,  8.26005930e-12,\n",
       "       -9.91917659e-12,  5.10524956e-12, -2.41833220e-11, -3.33000294e-12,\n",
       "        1.07860387e-11,  1.14130927e-11, -1.01749720e-11, -8.43991543e-13,\n",
       "       -2.05737649e-11, -1.44169121e-11,  3.13082893e-12, -6.69686528e-12,\n",
       "        1.28110855e-11,  1.28839162e-11,  1.28714817e-11, -8.50430837e-14,\n",
       "        1.60227387e-11, -2.08082440e-11,  8.90931773e-12, -1.73088210e-11])"
      ]
     },
     "execution_count": 5,
     "metadata": {},
     "output_type": "execute_result"
    }
   ],
   "source": [
    "scipy_chol_solve(chol, z) - np.linalg.solve(A, z)"
   ]
  },
  {
   "cell_type": "code",
   "execution_count": 6,
   "metadata": {},
   "outputs": [],
   "source": [
    "def naive_diaginv(A, sample_size=1000, method=\"cholesky\"):\n",
    "    \"\"\"Naive unbiased estimator for the diagonal of an inverse matrix, see [5]. A must be SPD.\n",
    "    \"\"\"\n",
    "\n",
    "    valid_methods = [\"cholesky\"]\n",
    "    assert method in valid_methods, f\"method must be one of {valid_methods}\"\n",
    "\n",
    "    # Get shape\n",
    "    n = A.shape[0]\n",
    "\n",
    "    # Setup\n",
    "    diaginv_estimate = np.zeros(n)\n",
    "    tk = np.zeros(n)\n",
    "    qk = np.zeros(n)\n",
    "\n",
    "    if method == \"cholesky\":\n",
    "        chol = scipy_chol_fac(A)\n",
    "    else:\n",
    "        raise NotImplementedError\n",
    "\n",
    "    for j in range(sample_size):\n",
    "        \n",
    "        # Draw random vector\n",
    "        vk = np.random.choice([-1, 1], size=n)\n",
    "\n",
    "        # Update tk\n",
    "        if method == \"cholesky\":\n",
    "            Ainv_vk = scipy_chol_solve(chol, vk)\n",
    "        else:\n",
    "            raise NotImplementedError\n",
    "    \n",
    "        tk = tk + (( Ainv_vk ) * vk)\n",
    "\n",
    "        # Update qk\n",
    "        qk = qk + (vk*vk)\n",
    "\n",
    "        # Update diag_estimate\n",
    "        diaginv_estimate = tk / qk\n",
    "\n",
    "    return diaginv_estimate"
   ]
  },
  {
   "cell_type": "code",
   "execution_count": 7,
   "metadata": {},
   "outputs": [],
   "source": [
    "true_diaginv = np.diag(np.linalg.inv(A))"
   ]
  },
  {
   "cell_type": "code",
   "execution_count": 8,
   "metadata": {},
   "outputs": [
    {
     "data": {
      "text/plain": [
       "array([0.79306065, 1.3395026 , 1.49225971, 0.34982241, 0.24981129])"
      ]
     },
     "execution_count": 8,
     "metadata": {},
     "output_type": "execute_result"
    }
   ],
   "source": [
    "true_diaginv[:5]"
   ]
  },
  {
   "cell_type": "code",
   "execution_count": 9,
   "metadata": {},
   "outputs": [],
   "source": [
    "diaginv_est = naive_diaginv(A, sample_size=10000)"
   ]
  },
  {
   "cell_type": "code",
   "execution_count": 10,
   "metadata": {},
   "outputs": [
    {
     "data": {
      "text/plain": [
       "array([0.82199926, 1.24619743, 1.4366137 , 0.36932097, 0.38807513])"
      ]
     },
     "execution_count": 10,
     "metadata": {},
     "output_type": "execute_result"
    }
   ],
   "source": [
    "diaginv_est[:5]"
   ]
  },
  {
   "cell_type": "code",
   "execution_count": null,
   "metadata": {},
   "outputs": [],
   "source": []
  },
  {
   "attachments": {},
   "cell_type": "markdown",
   "metadata": {},
   "source": [
    "# Chatgpt method?"
   ]
  },
  {
   "cell_type": "code",
   "execution_count": 15,
   "metadata": {},
   "outputs": [
    {
     "name": "stdout",
     "output_type": "stream",
     "text": [
      "[5.87924915e-06 1.43336100e-06 1.36202003e-06 6.93958530e-05\n",
      " 3.53325113e-06 1.24925900e-05 6.60042141e-06 1.63201599e-06\n",
      " 4.02721173e-07 1.58842288e-06 6.54198452e-07 1.55487764e-06\n",
      " 3.34966332e-07 7.86422929e-07 6.22357304e-06 3.92576390e-06\n",
      " 3.45962091e-07 1.19053432e-05 8.76829610e-07 1.52428887e-07\n",
      " 1.68922239e-06 6.98286768e-06 4.28942883e-06 4.55346637e-07\n",
      " 2.17170195e-07 1.08801063e-06 2.87356692e-06 7.44146409e-07\n",
      " 6.30145268e-06 1.62683903e-07 5.46320155e-06 2.65952833e-07\n",
      " 1.42308872e-06 2.89783742e-06 4.69089936e-07 3.79828858e-07\n",
      " 8.83071997e-06 2.35935462e-07 9.28359808e-06 9.31397237e-07\n",
      " 3.46448948e-07 1.82221484e-07 1.14236583e-06 4.32079970e-06\n",
      " 2.40692082e-07 2.72933046e-06 1.84046088e-06 2.13368586e-07\n",
      " 8.70258013e-07 2.19173150e-06 5.74187007e-06 4.76109485e-06\n",
      " 2.43359422e-06 8.66781192e-06 4.90716465e-06 1.50850447e-05\n",
      " 2.45040577e-06 7.60788657e-07 5.95052433e-07 9.99976608e-07\n",
      " 7.04871893e-07 4.13553237e-07 2.07701181e-05 1.06241263e-06\n",
      " 2.16597434e-06 6.20693402e-07 1.51140288e-06 4.13293233e-06\n",
      " 4.57099823e-06 7.05516360e-07 2.44306453e-06 2.94108179e-06\n",
      " 2.00309706e-06 6.27753527e-07 1.86222342e-06 5.31396472e-07\n",
      " 3.78883899e-06 5.42708365e-06 6.69952313e-07 8.67366892e-07\n",
      " 6.88736349e-06 1.65628586e-05 1.39420284e-06 1.14173599e-07\n",
      " 9.13236617e-07 5.20345599e-07 3.65292466e-06 2.99052337e-06\n",
      " 7.93617682e-07 2.56954106e-06 2.35157003e-07 1.37787228e-05\n",
      " 8.74065455e-07 1.35781372e-06 1.15991185e-06 1.12529680e-06\n",
      " 8.65439648e-07 3.60592423e-06 3.35710472e-07 5.27595935e-06]\n"
     ]
    }
   ],
   "source": [
    "import numpy as np\n",
    "\n",
    "def estimate_diagonal_inverse(A, n_iter=100):\n",
    "    n = A.shape[0]\n",
    "    x = np.random.rand(n)\n",
    "    y = np.zeros(n)\n",
    "\n",
    "    for _ in range(n_iter):\n",
    "        z = np.dot(A, x)\n",
    "        y += z * z\n",
    "        z /= np.dot(x, z)\n",
    "        x = z\n",
    "\n",
    "    diagonal_inverse = 1.0 / y\n",
    "\n",
    "    return diagonal_inverse\n",
    "\n",
    "# Example usage\n",
    "diagonal_inverse = estimate_diagonal_inverse(A)\n",
    "print(diagonal_inverse)\n"
   ]
  },
  {
   "cell_type": "code",
   "execution_count": null,
   "metadata": {},
   "outputs": [],
   "source": []
  },
  {
   "cell_type": "code",
   "execution_count": null,
   "metadata": {},
   "outputs": [],
   "source": []
  },
  {
   "cell_type": "code",
   "execution_count": null,
   "metadata": {},
   "outputs": [],
   "source": []
  },
  {
   "attachments": {},
   "cell_type": "markdown",
   "metadata": {},
   "source": [
    "# Explicit diag inverse probe"
   ]
  },
  {
   "cell_type": "code",
   "execution_count": 69,
   "metadata": {},
   "outputs": [],
   "source": [
    "def explicit_diaginv_probe(A, method=\"cholesky\"):\n",
    "    \"\"\"Computes the diagonal of inv(A) using an explicit probe. A must be SPD.\n",
    "    \"\"\"\n",
    "\n",
    "    valid_methods = [\"cholesky\"]\n",
    "    assert method in valid_methods, f\"method must be one of {valid_methods}\"\n",
    "\n",
    "    # Setup\n",
    "    n = A.shape[0]\n",
    "    diagonal_inv = np.zeros(n)\n",
    "\n",
    "    if method == \"cholesky\":\n",
    "        chol = scipy_chol_fac(A)\n",
    "    else:\n",
    "        raise NotImplementedError\n",
    "\n",
    "    for j in range(n):\n",
    "\n",
    "        # jth column of the identity\n",
    "        w = np.zeros(n)\n",
    "        w[j] = 1.0\n",
    "\n",
    "        # Compute w^T inv(A) w\n",
    "        if method == \"cholesky\":\n",
    "            Ainv_w = scipy_chol_solve(chol, w)\n",
    "        else:\n",
    "            raise NotImplementedError\n",
    "\n",
    "        diagonal_inv[j] = w.T @ Ainv_w\n",
    "\n",
    "    return diagonal_inv"
   ]
  },
  {
   "cell_type": "code",
   "execution_count": 70,
   "metadata": {},
   "outputs": [
    {
     "data": {
      "text/plain": [
       "array([ 8.57586596,  0.7267294 ,  0.85203419,  2.76756246,  0.2214591 ,\n",
       "        7.20166679,  9.1764802 ,  0.93558599,  1.04791352, 20.07114549,\n",
       "        1.19428919,  0.32162996,  0.46371162,  0.51850962, 12.66586429,\n",
       "        3.18986117, 20.71376633,  1.05068503,  2.58187642,  3.59578936,\n",
       "       10.51153871,  2.94140851, 29.81763933,  1.02600227,  2.55142791,\n",
       "        5.37002981, 10.93699529,  3.3122536 ,  9.99018729,  1.58450314,\n",
       "        0.46893677, 11.53063194,  1.38695438,  5.99991168,  0.64716075,\n",
       "        1.90461363,  4.10883592,  4.04324138,  4.55086426,  1.96278145,\n",
       "       29.01828566,  4.18241753,  1.54951477, 15.30661395,  0.80910166,\n",
       "        4.12588324, 14.0889585 ,  8.9417561 ,  3.17568107,  0.83490542,\n",
       "        1.67432212,  0.78163145,  1.04055025,  2.06221432,  1.56951583,\n",
       "        1.70784948,  0.70855028,  1.89357841,  1.98412581,  1.59130454,\n",
       "        9.43910867,  0.75570913, 13.78749808,  4.93897568,  5.20844652,\n",
       "        4.90017951,  1.05144977,  0.79222167,  8.69030863,  5.256824  ,\n",
       "        3.80315672,  4.04443744,  0.96009747,  2.28841669,  1.91967967,\n",
       "        1.53126505,  0.54707206,  2.22004983,  1.45775437,  1.60825472,\n",
       "        0.80609632, 44.51372154,  5.53654277,  0.22347941,  1.2389467 ,\n",
       "        6.14742452,  7.18607824,  9.72100433, 11.49992834,  2.86078986,\n",
       "       12.89709357,  4.31472628,  5.69716518,  0.32945879,  7.81678667,\n",
       "        2.00879686,  3.34148591,  2.16223812,  1.39667958,  1.63551336])"
      ]
     },
     "execution_count": 70,
     "metadata": {},
     "output_type": "execute_result"
    }
   ],
   "source": [
    "true_diaginv"
   ]
  },
  {
   "cell_type": "code",
   "execution_count": 71,
   "metadata": {},
   "outputs": [
    {
     "data": {
      "text/plain": [
       "array([ 8.57586596,  0.7267294 ,  0.85203419,  2.76756246,  0.2214591 ,\n",
       "        7.20166679,  9.1764802 ,  0.93558599,  1.04791352, 20.07114549,\n",
       "        1.19428919,  0.32162996,  0.46371162,  0.51850962, 12.66586429,\n",
       "        3.18986117, 20.71376633,  1.05068503,  2.58187642,  3.59578936,\n",
       "       10.51153871,  2.94140851, 29.81763933,  1.02600227,  2.55142791,\n",
       "        5.37002981, 10.93699529,  3.3122536 ,  9.99018729,  1.58450314,\n",
       "        0.46893677, 11.53063194,  1.38695438,  5.99991168,  0.64716075,\n",
       "        1.90461363,  4.10883592,  4.04324138,  4.55086426,  1.96278145,\n",
       "       29.01828566,  4.18241753,  1.54951477, 15.30661395,  0.80910166,\n",
       "        4.12588324, 14.0889585 ,  8.9417561 ,  3.17568107,  0.83490542,\n",
       "        1.67432212,  0.78163145,  1.04055025,  2.06221432,  1.56951583,\n",
       "        1.70784948,  0.70855028,  1.89357841,  1.98412581,  1.59130454,\n",
       "        9.43910867,  0.75570913, 13.78749808,  4.93897568,  5.20844652,\n",
       "        4.90017951,  1.05144977,  0.79222167,  8.69030863,  5.256824  ,\n",
       "        3.80315672,  4.04443744,  0.96009747,  2.28841669,  1.91967967,\n",
       "        1.53126505,  0.54707206,  2.22004983,  1.45775437,  1.60825472,\n",
       "        0.80609632, 44.51372154,  5.53654277,  0.22347941,  1.2389467 ,\n",
       "        6.14742452,  7.18607824,  9.72100433, 11.49992834,  2.86078986,\n",
       "       12.89709357,  4.31472628,  5.69716518,  0.32945879,  7.81678667,\n",
       "        2.00879686,  3.34148591,  2.16223812,  1.39667958,  1.63551336])"
      ]
     },
     "execution_count": 71,
     "metadata": {},
     "output_type": "execute_result"
    }
   ],
   "source": [
    "explicit_diaginv_probe(A)"
   ]
  },
  {
   "cell_type": "code",
   "execution_count": null,
   "metadata": {},
   "outputs": [],
   "source": []
  },
  {
   "cell_type": "code",
   "execution_count": null,
   "metadata": {},
   "outputs": [],
   "source": []
  },
  {
   "cell_type": "code",
   "execution_count": null,
   "metadata": {},
   "outputs": [],
   "source": []
  },
  {
   "cell_type": "code",
   "execution_count": null,
   "metadata": {},
   "outputs": [],
   "source": []
  }
 ],
 "metadata": {
  "kernelspec": {
   "display_name": "speckle38",
   "language": "python",
   "name": "python3"
  },
  "language_info": {
   "codemirror_mode": {
    "name": "ipython",
    "version": 3
   },
   "file_extension": ".py",
   "mimetype": "text/x-python",
   "name": "python",
   "nbconvert_exporter": "python",
   "pygments_lexer": "ipython3",
   "version": "3.8.12"
  },
  "orig_nbformat": 4
 },
 "nbformat": 4,
 "nbformat_minor": 2
}
