{
 "cells": [
  {
   "cell_type": "code",
   "execution_count": 59,
   "metadata": {},
   "outputs": [],
   "source": [
    "import numpy as np\n",
    "import matplotlib.pyplot as plt\n",
    "from scipy.linalg import cho_factor as scipy_chol_fac\n",
    "from scipy.linalg import cho_solve as scipy_chol_solve"
   ]
  },
  {
   "cell_type": "code",
   "execution_count": 60,
   "metadata": {},
   "outputs": [],
   "source": [
    "# Generate a random matrix A\n",
    "n = 100\n",
    "A = np.random.normal(size=(n,n))\n",
    "A = A.T @ A + 1e-3"
   ]
  },
  {
   "cell_type": "code",
   "execution_count": 61,
   "metadata": {},
   "outputs": [],
   "source": [
    "chol = scipy_chol_fac(A)"
   ]
  },
  {
   "cell_type": "code",
   "execution_count": 62,
   "metadata": {},
   "outputs": [],
   "source": [
    "z = np.ones(n)"
   ]
  },
  {
   "cell_type": "code",
   "execution_count": 63,
   "metadata": {},
   "outputs": [
    {
     "data": {
      "text/plain": [
       "array([-4.01900735e-11, -1.20978783e-11,  5.56887869e-12, -2.55132582e-11,\n",
       "        4.97824004e-13,  4.13105106e-11, -4.95212760e-11,  1.42055256e-11,\n",
       "        1.13811183e-11,  7.39852624e-11,  3.29514194e-12,  1.73905335e-12,\n",
       "       -2.40896192e-12,  1.62181379e-12,  5.83746385e-11,  2.88604696e-11,\n",
       "        7.20972171e-11,  9.81970061e-12,  2.38293829e-11, -3.02016190e-11,\n",
       "       -5.32018873e-11, -2.57740496e-11, -8.83151330e-11, -7.77156117e-12,\n",
       "       -2.10382822e-11, -1.80229165e-11, -4.74393858e-11, -2.88595814e-11,\n",
       "        5.17843546e-11, -1.71311854e-11,  9.07718345e-13,  5.45981038e-11,\n",
       "       -1.20508048e-11, -3.67137432e-11, -1.58539848e-12,  2.22204477e-11,\n",
       "       -2.99156255e-11, -2.91384694e-11, -3.31841221e-11,  1.80446769e-11,\n",
       "       -8.91056118e-11,  3.30349081e-11,  2.00213179e-11, -6.42685904e-11,\n",
       "       -8.68283223e-12, -3.02945447e-11,  5.68540770e-11,  4.92228480e-11,\n",
       "       -2.58877364e-11,  1.21795907e-11, -1.77706738e-11,  4.07140988e-12,\n",
       "       -5.49071899e-12, -2.12947437e-11, -1.47650780e-11, -1.89110949e-11,\n",
       "       -1.03028697e-12,  2.19486651e-11, -7.36477546e-12,  1.60262914e-11,\n",
       "        4.88924456e-11,  8.55077120e-12,  6.16218188e-11,  3.63584718e-11,\n",
       "        3.70672382e-11,  3.23634453e-11,  1.25750521e-11, -4.03055367e-12,\n",
       "       -4.46584991e-11,  3.76587650e-11,  3.22355476e-11, -3.06705772e-11,\n",
       "        1.00399689e-11,  1.99591454e-11, -1.74935622e-11,  1.19548815e-11,\n",
       "        1.14348114e-11, -2.33555397e-11,  1.13180576e-11, -1.67732495e-11,\n",
       "       -1.47082346e-12,  1.09700693e-10, -3.28679306e-11, -5.28022071e-13,\n",
       "        1.74136261e-11,  4.06288336e-11, -4.16768842e-11,  5.11217735e-11,\n",
       "       -5.37543343e-11,  2.34763320e-11,  5.94617688e-11, -3.19921867e-11,\n",
       "        3.85913523e-11, -5.00488540e-12, -4.37676562e-11, -8.06466005e-13,\n",
       "       -2.59259281e-11, -2.34425812e-11, -6.24567065e-12, -2.26663133e-12])"
      ]
     },
     "execution_count": 63,
     "metadata": {},
     "output_type": "execute_result"
    }
   ],
   "source": [
    "scipy_chol_solve(chol, z) - np.linalg.solve(A, z)"
   ]
  },
  {
   "cell_type": "code",
   "execution_count": 64,
   "metadata": {},
   "outputs": [],
   "source": [
    "def naive_diaginv(A, sample_size=1000, method=\"cholesky\"):\n",
    "    \"\"\"Naive unbiased estimator for the diagonal of an inverse matrix, see [5]. A must be SPD.\n",
    "    \"\"\"\n",
    "\n",
    "    valid_methods = [\"cholesky\"]\n",
    "    assert method in valid_methods, f\"method must be one of {valid_methods}\"\n",
    "\n",
    "    # Get shape\n",
    "    n = A.shape[0]\n",
    "\n",
    "    # Setup\n",
    "    diaginv_estimate = np.zeros(n)\n",
    "    tk = np.zeros(n)\n",
    "    qk = np.zeros(n)\n",
    "\n",
    "    if method == \"cholesky\":\n",
    "        chol = scipy_chol_fac(A)\n",
    "    else:\n",
    "        raise NotImplementedError\n",
    "\n",
    "    for j in range(sample_size):\n",
    "        \n",
    "        # Draw random vector\n",
    "        vk = np.random.choice([-1, 1], size=n)\n",
    "\n",
    "        # Update tk\n",
    "        if method == \"cholesky\":\n",
    "            Ainv_vk = scipy_chol_solve(chol, vk)\n",
    "        else:\n",
    "            raise NotImplementedError\n",
    "    \n",
    "        tk = tk + (( Ainv_vk ) * vk)\n",
    "\n",
    "        # Update qk\n",
    "        qk = qk + (vk*vk)\n",
    "\n",
    "        # Update diag_estimate\n",
    "        diaginv_estimate = tk / qk\n",
    "\n",
    "    return diaginv_estimate"
   ]
  },
  {
   "cell_type": "code",
   "execution_count": 65,
   "metadata": {},
   "outputs": [],
   "source": [
    "true_diaginv = np.diag(np.linalg.inv(A))"
   ]
  },
  {
   "cell_type": "code",
   "execution_count": 66,
   "metadata": {},
   "outputs": [
    {
     "data": {
      "text/plain": [
       "array([8.57586596, 0.7267294 , 0.85203419, 2.76756246, 0.2214591 ])"
      ]
     },
     "execution_count": 66,
     "metadata": {},
     "output_type": "execute_result"
    }
   ],
   "source": [
    "true_diaginv[:5]"
   ]
  },
  {
   "cell_type": "code",
   "execution_count": 67,
   "metadata": {},
   "outputs": [],
   "source": [
    "diaginv_est = naive_diaginv(A, sample_size=10000)"
   ]
  },
  {
   "cell_type": "code",
   "execution_count": 68,
   "metadata": {},
   "outputs": [
    {
     "data": {
      "text/plain": [
       "array([8.45785869, 0.7514646 , 0.8901894 , 2.54556302, 0.29175854])"
      ]
     },
     "execution_count": 68,
     "metadata": {},
     "output_type": "execute_result"
    }
   ],
   "source": [
    "diaginv_est[:5]"
   ]
  },
  {
   "cell_type": "code",
   "execution_count": null,
   "metadata": {},
   "outputs": [],
   "source": []
  },
  {
   "attachments": {},
   "cell_type": "markdown",
   "metadata": {},
   "source": [
    "# Explicit diag inverse probe"
   ]
  },
  {
   "cell_type": "code",
   "execution_count": 69,
   "metadata": {},
   "outputs": [],
   "source": [
    "def explicit_diaginv_probe(A, method=\"cholesky\"):\n",
    "    \"\"\"Computes the diagonal of inv(A) using an explicit probe. A must be SPD.\n",
    "    \"\"\"\n",
    "\n",
    "    valid_methods = [\"cholesky\"]\n",
    "    assert method in valid_methods, f\"method must be one of {valid_methods}\"\n",
    "\n",
    "    # Setup\n",
    "    n = A.shape[0]\n",
    "    diagonal_inv = np.zeros(n)\n",
    "\n",
    "    if method == \"cholesky\":\n",
    "        chol = scipy_chol_fac(A)\n",
    "    else:\n",
    "        raise NotImplementedError\n",
    "\n",
    "    for j in range(n):\n",
    "\n",
    "        # jth column of the identity\n",
    "        w = np.zeros(n)\n",
    "        w[j] = 1.0\n",
    "\n",
    "        # Compute w^T inv(A) w\n",
    "        if method == \"cholesky\":\n",
    "            Ainv_w = scipy_chol_solve(chol, w)\n",
    "        else:\n",
    "            raise NotImplementedError\n",
    "\n",
    "        diagonal_inv[j] = w.T @ Ainv_w\n",
    "\n",
    "    return diagonal_inv"
   ]
  },
  {
   "cell_type": "code",
   "execution_count": 70,
   "metadata": {},
   "outputs": [
    {
     "data": {
      "text/plain": [
       "array([ 8.57586596,  0.7267294 ,  0.85203419,  2.76756246,  0.2214591 ,\n",
       "        7.20166679,  9.1764802 ,  0.93558599,  1.04791352, 20.07114549,\n",
       "        1.19428919,  0.32162996,  0.46371162,  0.51850962, 12.66586429,\n",
       "        3.18986117, 20.71376633,  1.05068503,  2.58187642,  3.59578936,\n",
       "       10.51153871,  2.94140851, 29.81763933,  1.02600227,  2.55142791,\n",
       "        5.37002981, 10.93699529,  3.3122536 ,  9.99018729,  1.58450314,\n",
       "        0.46893677, 11.53063194,  1.38695438,  5.99991168,  0.64716075,\n",
       "        1.90461363,  4.10883592,  4.04324138,  4.55086426,  1.96278145,\n",
       "       29.01828566,  4.18241753,  1.54951477, 15.30661395,  0.80910166,\n",
       "        4.12588324, 14.0889585 ,  8.9417561 ,  3.17568107,  0.83490542,\n",
       "        1.67432212,  0.78163145,  1.04055025,  2.06221432,  1.56951583,\n",
       "        1.70784948,  0.70855028,  1.89357841,  1.98412581,  1.59130454,\n",
       "        9.43910867,  0.75570913, 13.78749808,  4.93897568,  5.20844652,\n",
       "        4.90017951,  1.05144977,  0.79222167,  8.69030863,  5.256824  ,\n",
       "        3.80315672,  4.04443744,  0.96009747,  2.28841669,  1.91967967,\n",
       "        1.53126505,  0.54707206,  2.22004983,  1.45775437,  1.60825472,\n",
       "        0.80609632, 44.51372154,  5.53654277,  0.22347941,  1.2389467 ,\n",
       "        6.14742452,  7.18607824,  9.72100433, 11.49992834,  2.86078986,\n",
       "       12.89709357,  4.31472628,  5.69716518,  0.32945879,  7.81678667,\n",
       "        2.00879686,  3.34148591,  2.16223812,  1.39667958,  1.63551336])"
      ]
     },
     "execution_count": 70,
     "metadata": {},
     "output_type": "execute_result"
    }
   ],
   "source": [
    "true_diaginv"
   ]
  },
  {
   "cell_type": "code",
   "execution_count": 71,
   "metadata": {},
   "outputs": [
    {
     "data": {
      "text/plain": [
       "array([ 8.57586596,  0.7267294 ,  0.85203419,  2.76756246,  0.2214591 ,\n",
       "        7.20166679,  9.1764802 ,  0.93558599,  1.04791352, 20.07114549,\n",
       "        1.19428919,  0.32162996,  0.46371162,  0.51850962, 12.66586429,\n",
       "        3.18986117, 20.71376633,  1.05068503,  2.58187642,  3.59578936,\n",
       "       10.51153871,  2.94140851, 29.81763933,  1.02600227,  2.55142791,\n",
       "        5.37002981, 10.93699529,  3.3122536 ,  9.99018729,  1.58450314,\n",
       "        0.46893677, 11.53063194,  1.38695438,  5.99991168,  0.64716075,\n",
       "        1.90461363,  4.10883592,  4.04324138,  4.55086426,  1.96278145,\n",
       "       29.01828566,  4.18241753,  1.54951477, 15.30661395,  0.80910166,\n",
       "        4.12588324, 14.0889585 ,  8.9417561 ,  3.17568107,  0.83490542,\n",
       "        1.67432212,  0.78163145,  1.04055025,  2.06221432,  1.56951583,\n",
       "        1.70784948,  0.70855028,  1.89357841,  1.98412581,  1.59130454,\n",
       "        9.43910867,  0.75570913, 13.78749808,  4.93897568,  5.20844652,\n",
       "        4.90017951,  1.05144977,  0.79222167,  8.69030863,  5.256824  ,\n",
       "        3.80315672,  4.04443744,  0.96009747,  2.28841669,  1.91967967,\n",
       "        1.53126505,  0.54707206,  2.22004983,  1.45775437,  1.60825472,\n",
       "        0.80609632, 44.51372154,  5.53654277,  0.22347941,  1.2389467 ,\n",
       "        6.14742452,  7.18607824,  9.72100433, 11.49992834,  2.86078986,\n",
       "       12.89709357,  4.31472628,  5.69716518,  0.32945879,  7.81678667,\n",
       "        2.00879686,  3.34148591,  2.16223812,  1.39667958,  1.63551336])"
      ]
     },
     "execution_count": 71,
     "metadata": {},
     "output_type": "execute_result"
    }
   ],
   "source": [
    "explicit_diaginv_probe(A)"
   ]
  },
  {
   "cell_type": "code",
   "execution_count": null,
   "metadata": {},
   "outputs": [],
   "source": []
  },
  {
   "cell_type": "code",
   "execution_count": null,
   "metadata": {},
   "outputs": [],
   "source": []
  },
  {
   "cell_type": "code",
   "execution_count": null,
   "metadata": {},
   "outputs": [],
   "source": []
  },
  {
   "cell_type": "code",
   "execution_count": null,
   "metadata": {},
   "outputs": [],
   "source": []
  }
 ],
 "metadata": {
  "kernelspec": {
   "display_name": "speckle38",
   "language": "python",
   "name": "python3"
  },
  "language_info": {
   "codemirror_mode": {
    "name": "ipython",
    "version": 3
   },
   "file_extension": ".py",
   "mimetype": "text/x-python",
   "name": "python",
   "nbconvert_exporter": "python",
   "pygments_lexer": "ipython3",
   "version": "3.8.12"
  },
  "orig_nbformat": 4
 },
 "nbformat": 4,
 "nbformat_minor": 2
}
